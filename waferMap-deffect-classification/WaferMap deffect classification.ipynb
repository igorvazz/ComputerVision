{
 "cells": [
  {
   "cell_type": "markdown",
   "metadata": {},
   "source": [
    "#  <a name=\"eda\" style=\"margin-left: 200px;\">WaferMap Deffects Classification</a>"
   ]
  },
  {
   "cell_type": "markdown",
   "metadata": {},
   "source": [
    "<a>\n",
    "    <div style=\"margin-left: 0px;\">\n",
    "        <p align=\"center\">\n",
    "            <img width=\"18%\" align=\"left\" style=\"margin-right: 10px;\" src=\"./images/wafer-deffect-1.jpg\"/>                    <img width=\"18%\" align=\"left\" style=\"margin-right: 10px; margin-top: 0px;\" src=\"./images/wafer-deffect-3.jpg\"/>\n",
    "            <img width=\"18%\" align=\"left\" style=\"margin-right: 10px; margin-top: 0px;\" src=\"./images/wafer-deffect-4.png\"/>\n",
    "            <img width=\"18%\" align=\"left\" style=\"margin-right: 10px; margin-top: 0px;\" src=\"./images/wafer-deffect-5.png\"/>\n",
    "            <img width=\"18%\" align=\"left\" style=\"margin-right: 10px; margin-top: 0px;\" src=\"./images/wafer-deffect-6.png\"/>\n",
    "        </p>\n",
    "    </div>\n",
    "</a>"
   ]
  },
  {
   "cell_type": "markdown",
   "metadata": {},
   "source": [
    "# Summary"
   ]
  },
  {
   "cell_type": "markdown",
   "metadata": {},
   "source": [
    "1. [Introduction](#Introduction)<br>\n",
    "    1.1. [Objective](#Objective)<br>\n",
    "2. [Exploratory Data Analysis](#eda)<br>\n",
    "    2.1. [Checking missing values](#missing)<br>\n",
    "    2.2. [Data cleaning and balancing](#clean)<br>\n",
    "    2.3. [Visualizing examples](#examples)<br>\n",
    "\n",
    "3. [Hand-crafted features approach](#hand)<br>\n",
    "    3.1. [Data transformation](#datatrans)<br>\n",
    "    &#x200B; 3.1.1. [Density-based Features](#density)<br>\n",
    "    &#x200B; 3.1.2. [Radon-based Features](#radon)<br>\n",
    "    &#x200B; 3.1.3. [Geometry-based Features](#geometry)<br>\n",
    "    3.2. [Classifying with SVM](#svm)<br>\n",
    "    \n",
    "4. [A Deep Learning approach](#deep)<br>\n",
    "    4.1. [Simple CNN](#cnn)<br>\n",
    "    4.2. [DenseNet + Data augmentation](#densenet)<br>\n",
    "\n",
    "5. [References](#ref)<br>"
   ]
  },
  {
   "cell_type": "markdown",
   "metadata": {},
   "source": [
    "# 1. Introduction <a name=\"Introduction\"></a>"
   ]
  },
  {
   "cell_type": "markdown",
   "metadata": {},
   "source": [
    "Defect detection is an integral part of wafer (chip) fabrication process. It enables defect detection and classification along the process to increase the fab yield (amount of good chips out of total wafers processed). Every detected defect is handled as an indicator of some process malfunction [1]. \n",
    "Substrate mapping (or wafer mapping) is a process in which the performance of semiconductor devices on a substrate is represented by a map showing the performance as a colour-coded grid. The map is a convenient representation of the variation in performance across the substrate, since the distribution of those variations may be a clue as to their cause [2]."
   ]
  },
  {
   "cell_type": "markdown",
   "metadata": {},
   "source": [
    "## 1.1 Objective <a name=\"Objective\"></a>"
   ]
  },
  {
   "cell_type": "markdown",
   "metadata": {},
   "source": [
    "Given a dataset of Wafer deffects [3], identify different types of wafer map failure patterns automatically, to improve the semi-conductor fabrication process"
   ]
  },
  {
   "cell_type": "markdown",
   "metadata": {},
   "source": [
    "# 2. Exploratory Data Analysis <a name=\"eda\"></a>"
   ]
  },
  {
   "cell_type": "markdown",
   "metadata": {},
   "source": [
    "The dataset comes in a 2.1Gb pickle file, that can be read using pandas"
   ]
  },
  {
   "cell_type": "code",
   "execution_count": 1,
   "metadata": {},
   "outputs": [
    {
     "name": "stdout",
     "output_type": "stream",
     "text": [
      "<class 'pandas.core.frame.DataFrame'>\n",
      "RangeIndex: 811457 entries, 0 to 811456\n",
      "Data columns (total 6 columns):\n",
      " #   Column          Non-Null Count   Dtype  \n",
      "---  ------          --------------   -----  \n",
      " 0   waferMap        811457 non-null  object \n",
      " 1   dieSize         811457 non-null  float64\n",
      " 2   lotName         811457 non-null  object \n",
      " 3   waferIndex      811457 non-null  float64\n",
      " 4   trianTestLabel  811457 non-null  object \n",
      " 5   failureType     811457 non-null  object \n",
      "dtypes: float64(2), object(4)\n",
      "memory usage: 37.1+ MB\n"
     ]
    }
   ],
   "source": [
    "import pandas as pd\n",
    "\n",
    "dataframe = pd.read_pickle(\"wm811k-wafer-map/LSWMD.pkl\")\n",
    "dataframe.info()"
   ]
  },
  {
   "cell_type": "markdown",
   "metadata": {},
   "source": [
    "* The dataset is composed of 811,457 wafer maps images, and additional info, such as wafer die size, lot name and wafer index.\n",
    "* The dataset is already split into Training / Test sets, but in this kernel we ignore this info and we re-divided the dataset into training set and test set by hold-out mehtod which will be introduced in later section."
   ]
  },
  {
   "cell_type": "code",
   "execution_count": 2,
   "metadata": {},
   "outputs": [
    {
     "data": {
      "text/html": [
       "<div>\n",
       "<style scoped>\n",
       "    .dataframe tbody tr th:only-of-type {\n",
       "        vertical-align: middle;\n",
       "    }\n",
       "\n",
       "    .dataframe tbody tr th {\n",
       "        vertical-align: top;\n",
       "    }\n",
       "\n",
       "    .dataframe thead th {\n",
       "        text-align: right;\n",
       "    }\n",
       "</style>\n",
       "<table border=\"1\" class=\"dataframe\">\n",
       "  <thead>\n",
       "    <tr style=\"text-align: right;\">\n",
       "      <th></th>\n",
       "      <th>waferMap</th>\n",
       "      <th>dieSize</th>\n",
       "      <th>lotName</th>\n",
       "      <th>waferIndex</th>\n",
       "      <th>trianTestLabel</th>\n",
       "      <th>failureType</th>\n",
       "    </tr>\n",
       "  </thead>\n",
       "  <tbody>\n",
       "    <tr>\n",
       "      <th>0</th>\n",
       "      <td>[[0, 0, 0, 0, 0, 0, 0, 0, 0, 0, 0, 0, 0, 0, 0,...</td>\n",
       "      <td>1683.0</td>\n",
       "      <td>lot1</td>\n",
       "      <td>1.0</td>\n",
       "      <td>[[Training]]</td>\n",
       "      <td>[[none]]</td>\n",
       "    </tr>\n",
       "    <tr>\n",
       "      <th>1</th>\n",
       "      <td>[[0, 0, 0, 0, 0, 0, 0, 0, 0, 0, 0, 0, 0, 0, 0,...</td>\n",
       "      <td>1683.0</td>\n",
       "      <td>lot1</td>\n",
       "      <td>2.0</td>\n",
       "      <td>[[Training]]</td>\n",
       "      <td>[[none]]</td>\n",
       "    </tr>\n",
       "    <tr>\n",
       "      <th>2</th>\n",
       "      <td>[[0, 0, 0, 0, 0, 0, 0, 0, 0, 0, 0, 0, 0, 0, 0,...</td>\n",
       "      <td>1683.0</td>\n",
       "      <td>lot1</td>\n",
       "      <td>3.0</td>\n",
       "      <td>[[Training]]</td>\n",
       "      <td>[[none]]</td>\n",
       "    </tr>\n",
       "    <tr>\n",
       "      <th>3</th>\n",
       "      <td>[[0, 0, 0, 0, 0, 0, 0, 0, 0, 0, 0, 0, 0, 0, 0,...</td>\n",
       "      <td>1683.0</td>\n",
       "      <td>lot1</td>\n",
       "      <td>4.0</td>\n",
       "      <td>[[Training]]</td>\n",
       "      <td>[[none]]</td>\n",
       "    </tr>\n",
       "    <tr>\n",
       "      <th>4</th>\n",
       "      <td>[[0, 0, 0, 0, 0, 0, 0, 0, 0, 0, 0, 0, 0, 0, 0,...</td>\n",
       "      <td>1683.0</td>\n",
       "      <td>lot1</td>\n",
       "      <td>5.0</td>\n",
       "      <td>[[Training]]</td>\n",
       "      <td>[[none]]</td>\n",
       "    </tr>\n",
       "  </tbody>\n",
       "</table>\n",
       "</div>"
      ],
      "text/plain": [
       "                                            waferMap  dieSize lotName  \\\n",
       "0  [[0, 0, 0, 0, 0, 0, 0, 0, 0, 0, 0, 0, 0, 0, 0,...   1683.0    lot1   \n",
       "1  [[0, 0, 0, 0, 0, 0, 0, 0, 0, 0, 0, 0, 0, 0, 0,...   1683.0    lot1   \n",
       "2  [[0, 0, 0, 0, 0, 0, 0, 0, 0, 0, 0, 0, 0, 0, 0,...   1683.0    lot1   \n",
       "3  [[0, 0, 0, 0, 0, 0, 0, 0, 0, 0, 0, 0, 0, 0, 0,...   1683.0    lot1   \n",
       "4  [[0, 0, 0, 0, 0, 0, 0, 0, 0, 0, 0, 0, 0, 0, 0,...   1683.0    lot1   \n",
       "\n",
       "   waferIndex trianTestLabel failureType  \n",
       "0         1.0   [[Training]]    [[none]]  \n",
       "1         2.0   [[Training]]    [[none]]  \n",
       "2         3.0   [[Training]]    [[none]]  \n",
       "3         4.0   [[Training]]    [[none]]  \n",
       "4         5.0   [[Training]]    [[none]]  "
      ]
     },
     "execution_count": 2,
     "metadata": {},
     "output_type": "execute_result"
    }
   ],
   "source": [
    "dataframe.head()"
   ]
  },
  {
   "cell_type": "code",
   "execution_count": 3,
   "metadata": {},
   "outputs": [
    {
     "data": {
      "text/html": [
       "<div>\n",
       "<style scoped>\n",
       "    .dataframe tbody tr th:only-of-type {\n",
       "        vertical-align: middle;\n",
       "    }\n",
       "\n",
       "    .dataframe tbody tr th {\n",
       "        vertical-align: top;\n",
       "    }\n",
       "\n",
       "    .dataframe thead th {\n",
       "        text-align: right;\n",
       "    }\n",
       "</style>\n",
       "<table border=\"1\" class=\"dataframe\">\n",
       "  <thead>\n",
       "    <tr style=\"text-align: right;\">\n",
       "      <th></th>\n",
       "      <th>waferMap</th>\n",
       "      <th>dieSize</th>\n",
       "      <th>lotName</th>\n",
       "      <th>waferIndex</th>\n",
       "      <th>trianTestLabel</th>\n",
       "      <th>failureType</th>\n",
       "    </tr>\n",
       "  </thead>\n",
       "  <tbody>\n",
       "    <tr>\n",
       "      <th>811452</th>\n",
       "      <td>[[0, 0, 0, 0, 0, 0, 0, 0, 0, 0, 0, 1, 2, 1, 1,...</td>\n",
       "      <td>600.0</td>\n",
       "      <td>lot47542</td>\n",
       "      <td>23.0</td>\n",
       "      <td>[[Test]]</td>\n",
       "      <td>[[Edge-Ring]]</td>\n",
       "    </tr>\n",
       "    <tr>\n",
       "      <th>811453</th>\n",
       "      <td>[[0, 0, 0, 0, 0, 0, 0, 0, 0, 0, 0, 2, 2, 1, 1,...</td>\n",
       "      <td>600.0</td>\n",
       "      <td>lot47542</td>\n",
       "      <td>24.0</td>\n",
       "      <td>[[Test]]</td>\n",
       "      <td>[[Edge-Loc]]</td>\n",
       "    </tr>\n",
       "    <tr>\n",
       "      <th>811454</th>\n",
       "      <td>[[0, 0, 0, 0, 0, 0, 0, 0, 0, 0, 0, 1, 2, 1, 1,...</td>\n",
       "      <td>600.0</td>\n",
       "      <td>lot47542</td>\n",
       "      <td>25.0</td>\n",
       "      <td>[[Test]]</td>\n",
       "      <td>[[Edge-Ring]]</td>\n",
       "    </tr>\n",
       "    <tr>\n",
       "      <th>811455</th>\n",
       "      <td>[[0, 0, 0, 0, 0, 0, 0, 0, 0, 0, 0, 1, 1, 1, 1,...</td>\n",
       "      <td>600.0</td>\n",
       "      <td>lot47543</td>\n",
       "      <td>1.0</td>\n",
       "      <td>[]</td>\n",
       "      <td>[]</td>\n",
       "    </tr>\n",
       "    <tr>\n",
       "      <th>811456</th>\n",
       "      <td>[[0, 0, 0, 0, 0, 0, 0, 0, 0, 0, 0, 1, 2, 1, 1,...</td>\n",
       "      <td>600.0</td>\n",
       "      <td>lot47543</td>\n",
       "      <td>2.0</td>\n",
       "      <td>[]</td>\n",
       "      <td>[]</td>\n",
       "    </tr>\n",
       "  </tbody>\n",
       "</table>\n",
       "</div>"
      ],
      "text/plain": [
       "                                                 waferMap  dieSize   lotName  \\\n",
       "811452  [[0, 0, 0, 0, 0, 0, 0, 0, 0, 0, 0, 1, 2, 1, 1,...    600.0  lot47542   \n",
       "811453  [[0, 0, 0, 0, 0, 0, 0, 0, 0, 0, 0, 2, 2, 1, 1,...    600.0  lot47542   \n",
       "811454  [[0, 0, 0, 0, 0, 0, 0, 0, 0, 0, 0, 1, 2, 1, 1,...    600.0  lot47542   \n",
       "811455  [[0, 0, 0, 0, 0, 0, 0, 0, 0, 0, 0, 1, 1, 1, 1,...    600.0  lot47543   \n",
       "811456  [[0, 0, 0, 0, 0, 0, 0, 0, 0, 0, 0, 1, 2, 1, 1,...    600.0  lot47543   \n",
       "\n",
       "        waferIndex trianTestLabel    failureType  \n",
       "811452        23.0       [[Test]]  [[Edge-Ring]]  \n",
       "811453        24.0       [[Test]]   [[Edge-Loc]]  \n",
       "811454        25.0       [[Test]]  [[Edge-Ring]]  \n",
       "811455         1.0             []             []  \n",
       "811456         2.0             []             []  "
      ]
     },
     "execution_count": 3,
     "metadata": {},
     "output_type": "execute_result"
    }
   ],
   "source": [
    "dataframe.tail()"
   ]
  },
  {
   "cell_type": "markdown",
   "metadata": {},
   "source": [
    "* The dataset was generated from 47,543 lots in a real-world lab. But 47,543 lots * 25 wafer/lot = 1,157,325 wafer maps, and that is larger than 811,457 wafer maps, so something is wrong:\n"
   ]
  },
  {
   "cell_type": "code",
   "execution_count": 4,
   "metadata": {},
   "outputs": [
    {
     "data": {
      "image/png": "[encoded data removed]",
      "text/plain": [
       "<Figure size 432x288 with 1 Axes>"
      ]
     },
     "metadata": {
      "needs_background": "light"
     },
     "output_type": "display_data"
    }
   ],
   "source": [
    "import numpy as np\n",
    "import matplotlib.pyplot as plt\n",
    "%matplotlib inline\n",
    "\n",
    "unique_index = np.unique(dataframe.waferIndex, return_counts=True)\n",
    "plt.bar(unique_index[0], unique_index[1], color='green')\n",
    "plt.title(\" wafer Index distribution\")\n",
    "plt.xlabel(\"index number\")\n",
    "plt.ylabel(\"frequency\")\n",
    "plt.ylim(30000, 33000)\n",
    "plt.show()"
   ]
  },
  {
   "cell_type": "markdown",
   "metadata": {},
   "source": [
    "Not all lots have 25 wafer maps and it may caused by some sensor failure. For this classification task the index number is not needed:"
   ]
  },
  {
   "cell_type": "code",
   "execution_count": 5,
   "metadata": {},
   "outputs": [],
   "source": [
    "dataframe = dataframe.drop(['waferIndex'], axis=1)"
   ]
  },
  {
   "cell_type": "markdown",
   "metadata": {},
   "source": [
    "Another item to notice is the Die size, which has different values:"
   ]
  },
  {
   "cell_type": "code",
   "execution_count": 6,
   "metadata": {},
   "outputs": [
    {
     "data": {
      "image/png": "[encoded data removed]",
      "text/plain": [
       "<Figure size 432x288 with 1 Axes>"
      ]
     },
     "metadata": {
      "needs_background": "light"
     },
     "output_type": "display_data"
    }
   ],
   "source": [
    "unique_index = np.unique(dataframe.dieSize, return_counts=True)\n",
    "plt.hist(unique_index[0], bins=100, color='green')\n",
    "plt.title(\" wafer Die size distribution\")\n",
    "plt.xlabel(\"Die Size\")\n",
    "plt.ylabel(\"frequency\")\n",
    "plt.xlim(0, 10000)\n",
    "plt.show()"
   ]
  },
  {
   "cell_type": "markdown",
   "metadata": {},
   "source": [
    "## 2.1 Checking missing values <a name=\"missing\"></a>"
   ]
  },
  {
   "cell_type": "code",
   "execution_count": 7,
   "metadata": {},
   "outputs": [],
   "source": [
    "import warnings\n",
    "warnings.simplefilter(action='ignore', category=FutureWarning)\n",
    "\n",
    "dataframe['failureNum'] = dataframe.failureType\n",
    "dataframe['trainTestNum'] = dataframe.trianTestLabel\n",
    "\n",
    "mapping_type = {'Center': 0,\n",
    "                'Donut': 1,\n",
    "                'Edge-Loc': 2,\n",
    "                'Edge-Ring': 3,\n",
    "                'Loc': 4,\n",
    "                'Random': 5,\n",
    "                'Scratch': 6,\n",
    "                'Near-full': 7,\n",
    "                'none': 8}\n",
    "\n",
    "mapping_traintest = {'Training': 0,\n",
    "                     'Test': 1}\n",
    "\n",
    "dataframe = dataframe.replace({'failureNum': mapping_type,\n",
    "                               'trainTestNum': mapping_traintest})"
   ]
  },
  {
   "cell_type": "markdown",
   "metadata": {},
   "source": [
    "Total number of wafers"
   ]
  },
  {
   "cell_type": "code",
   "execution_count": 8,
   "metadata": {},
   "outputs": [
    {
     "data": {
      "text/plain": [
       "811457"
      ]
     },
     "execution_count": 8,
     "metadata": {},
     "output_type": "execute_result"
    }
   ],
   "source": [
    "total_wafers = dataframe.shape[0]\n",
    "total_wafers"
   ]
  },
  {
   "cell_type": "code",
   "execution_count": 9,
   "metadata": {},
   "outputs": [],
   "source": [
    "dataframe_with_label = dataframe[(dataframe['failureNum'] >= 0) & (\n",
    "    dataframe['failureNum'] <= 8)].reset_index()\n",
    "dataframe_with_pattern = dataframe[(dataframe['failureNum'] >= 0) & (\n",
    "    dataframe['failureNum'] <= 7)].reset_index()\n",
    "dataframe_non_pattern = dataframe[(dataframe['failureNum'] == 8)]"
   ]
  },
  {
   "cell_type": "code",
   "execution_count": 10,
   "metadata": {},
   "outputs": [
    {
     "name": "stdout",
     "output_type": "stream",
     "text": [
      "elements with label =  172950\n",
      "elements with pattern =  25519\n",
      "elements without pattern (elements with label - elements with pattern) =  147431\n"
     ]
    }
   ],
   "source": [
    "print('elements with label = ', dataframe_with_label.shape[0])\n",
    "print('elements with pattern = ', dataframe_with_pattern.shape[0])\n",
    "print('elements without pattern (elements with label - elements with pattern) = ',\n",
    "      dataframe_non_pattern.shape[0])"
   ]
  },
  {
   "cell_type": "code",
   "execution_count": 77,
   "metadata": {},
   "outputs": [
    {
     "data": {
      "image/png": "[encoded data removed]",
      "text/plain": [
       "<Figure size 1080x360 with 2 Axes>"
      ]
     },
     "metadata": {
      "needs_background": "light"
     },
     "output_type": "display_data"
    }
   ],
   "source": [
    "from matplotlib import gridspec\n",
    "\n",
    "fig = plt.figure(figsize=(15, 5))\n",
    "gs = gridspec.GridSpec(1, 2, width_ratios=[2, 1.4])\n",
    "ax1 = plt.subplot(gs[0])\n",
    "ax2 = plt.subplot(gs[1])\n",
    "\n",
    "unique_pattern = np.unique(dataframe_with_label.failureNum,\n",
    "                           return_counts=True)\n",
    "\n",
    "labels = ['Center', 'Donut', 'Edge-Loc', 'Edge-Ring',\n",
    "          'Loc', 'Random', 'Scratch', 'Near-full', 'none']\n",
    "\n",
    "ax1.bar(unique_pattern[0], unique_pattern[1] / dataframe_with_pattern.shape[0],\n",
    "        color='green', align='center', alpha=0.9)\n",
    "ax1.set_title(\"failure type frequency\")\n",
    "ax1.set_ylabel(\"% of pattern wafers\")\n",
    "ax1.set_xticklabels(labels)\n",
    "\n",
    "# Number of elements with no labels, elements with patterns,\n",
    "# and elements without pattern\n",
    "number_wafers = [dataframe_with_label.shape[0],\n",
    "                 dataframe_with_pattern.shape[0],\n",
    "                 dataframe_non_pattern.shape[0]]\n",
    "\n",
    "labels = ['label', 'label+pattern', 'label-without-pattern']\n",
    "ax2.bar(labels, number_wafers)\n",
    "ax2.set_ylim(0, 200000)\n",
    "ax2.set_title(\"Total number of elements\")\n",
    "plt.show()"
   ]
  },
  {
   "cell_type": "markdown",
   "metadata": {},
   "source": [
    "The label+patter quantity is 25519, which represents only 3.1% of the total wafers, and is the amount of examples to be used in the rest of the notebook"
   ]
  },
  {
   "cell_type": "markdown",
   "metadata": {},
   "source": [
    "## 2.2 Data cleaning and balancing <a name=\"clean\"></a>"
   ]
  },
  {
   "cell_type": "markdown",
   "metadata": {},
   "source": [
    "Creating a column with the image waferMap shape (width, height)"
   ]
  },
  {
   "cell_type": "code",
   "execution_count": 12,
   "metadata": {},
   "outputs": [
    {
     "data": {
      "text/html": [
       "<div>\n",
       "<style scoped>\n",
       "    .dataframe tbody tr th:only-of-type {\n",
       "        vertical-align: middle;\n",
       "    }\n",
       "\n",
       "    .dataframe tbody tr th {\n",
       "        vertical-align: top;\n",
       "    }\n",
       "\n",
       "    .dataframe thead th {\n",
       "        text-align: right;\n",
       "    }\n",
       "</style>\n",
       "<table border=\"1\" class=\"dataframe\">\n",
       "  <thead>\n",
       "    <tr style=\"text-align: right;\">\n",
       "      <th></th>\n",
       "      <th>index</th>\n",
       "      <th>waferMap</th>\n",
       "      <th>dieSize</th>\n",
       "      <th>lotName</th>\n",
       "      <th>trianTestLabel</th>\n",
       "      <th>failureType</th>\n",
       "      <th>failureNum</th>\n",
       "      <th>trainTestNum</th>\n",
       "      <th>waferMapDimension</th>\n",
       "    </tr>\n",
       "  </thead>\n",
       "  <tbody>\n",
       "    <tr>\n",
       "      <th>0</th>\n",
       "      <td>0</td>\n",
       "      <td>[[0, 0, 0, 0, 0, 0, 0, 0, 0, 0, 0, 0, 0, 0, 0,...</td>\n",
       "      <td>1683.0</td>\n",
       "      <td>lot1</td>\n",
       "      <td>[[Training]]</td>\n",
       "      <td>[[none]]</td>\n",
       "      <td>8</td>\n",
       "      <td>0</td>\n",
       "      <td>(45, 48)</td>\n",
       "    </tr>\n",
       "    <tr>\n",
       "      <th>1</th>\n",
       "      <td>1</td>\n",
       "      <td>[[0, 0, 0, 0, 0, 0, 0, 0, 0, 0, 0, 0, 0, 0, 0,...</td>\n",
       "      <td>1683.0</td>\n",
       "      <td>lot1</td>\n",
       "      <td>[[Training]]</td>\n",
       "      <td>[[none]]</td>\n",
       "      <td>8</td>\n",
       "      <td>0</td>\n",
       "      <td>(45, 48)</td>\n",
       "    </tr>\n",
       "    <tr>\n",
       "      <th>2</th>\n",
       "      <td>2</td>\n",
       "      <td>[[0, 0, 0, 0, 0, 0, 0, 0, 0, 0, 0, 0, 0, 0, 0,...</td>\n",
       "      <td>1683.0</td>\n",
       "      <td>lot1</td>\n",
       "      <td>[[Training]]</td>\n",
       "      <td>[[none]]</td>\n",
       "      <td>8</td>\n",
       "      <td>0</td>\n",
       "      <td>(45, 48)</td>\n",
       "    </tr>\n",
       "    <tr>\n",
       "      <th>3</th>\n",
       "      <td>3</td>\n",
       "      <td>[[0, 0, 0, 0, 0, 0, 0, 0, 0, 0, 0, 0, 0, 0, 0,...</td>\n",
       "      <td>1683.0</td>\n",
       "      <td>lot1</td>\n",
       "      <td>[[Training]]</td>\n",
       "      <td>[[none]]</td>\n",
       "      <td>8</td>\n",
       "      <td>0</td>\n",
       "      <td>(45, 48)</td>\n",
       "    </tr>\n",
       "    <tr>\n",
       "      <th>4</th>\n",
       "      <td>4</td>\n",
       "      <td>[[0, 0, 0, 0, 0, 0, 0, 0, 0, 0, 0, 0, 0, 0, 0,...</td>\n",
       "      <td>1683.0</td>\n",
       "      <td>lot1</td>\n",
       "      <td>[[Training]]</td>\n",
       "      <td>[[none]]</td>\n",
       "      <td>8</td>\n",
       "      <td>0</td>\n",
       "      <td>(45, 48)</td>\n",
       "    </tr>\n",
       "  </tbody>\n",
       "</table>\n",
       "</div>"
      ],
      "text/plain": [
       "   index                                           waferMap  dieSize lotName  \\\n",
       "0      0  [[0, 0, 0, 0, 0, 0, 0, 0, 0, 0, 0, 0, 0, 0, 0,...   1683.0    lot1   \n",
       "1      1  [[0, 0, 0, 0, 0, 0, 0, 0, 0, 0, 0, 0, 0, 0, 0,...   1683.0    lot1   \n",
       "2      2  [[0, 0, 0, 0, 0, 0, 0, 0, 0, 0, 0, 0, 0, 0, 0,...   1683.0    lot1   \n",
       "3      3  [[0, 0, 0, 0, 0, 0, 0, 0, 0, 0, 0, 0, 0, 0, 0,...   1683.0    lot1   \n",
       "4      4  [[0, 0, 0, 0, 0, 0, 0, 0, 0, 0, 0, 0, 0, 0, 0,...   1683.0    lot1   \n",
       "\n",
       "  trianTestLabel failureType failureNum trainTestNum waferMapDimension  \n",
       "0   [[Training]]    [[none]]          8            0          (45, 48)  \n",
       "1   [[Training]]    [[none]]          8            0          (45, 48)  \n",
       "2   [[Training]]    [[none]]          8            0          (45, 48)  \n",
       "3   [[Training]]    [[none]]          8            0          (45, 48)  \n",
       "4   [[Training]]    [[none]]          8            0          (45, 48)  "
      ]
     },
     "execution_count": 12,
     "metadata": {},
     "output_type": "execute_result"
    }
   ],
   "source": [
    "def find_waferMap_dimensions(waferMap):\n",
    "    width = np.size(waferMap, axis=0)\n",
    "    height = np.size(waferMap, axis=1)\n",
    "    return width, height\n",
    "\n",
    "\n",
    "dataframe_with_label['waferMapDimension'] = dataframe_with_label.waferMap.apply(find_waferMap_dimensions)\n",
    "dataframe_with_label.head()"
   ]
  },
  {
   "cell_type": "code",
   "execution_count": 13,
   "metadata": {},
   "outputs": [
    {
     "data": {
      "image/png": "[encoded data removed]",
      "text/plain": [
       "<Figure size 432x288 with 1 Axes>"
      ]
     },
     "metadata": {
      "needs_background": "light"
     },
     "output_type": "display_data"
    }
   ],
   "source": [
    "dataframe_with_label['waferMapDimension'].value_counts().head(20).plot.bar();"
   ]
  },
  {
   "cell_type": "code",
   "execution_count": 14,
   "metadata": {},
   "outputs": [],
   "source": [
    "import cv2\n",
    "\n",
    "IMAGE_SIZE = (32, 32)\n",
    "\n",
    "\n",
    "def resize_waferMap(image):\n",
    "    # Resize image to target size\n",
    "    return cv2.resize(image.copy(), IMAGE_SIZE, interpolation=cv2.INTER_NEAREST)"
   ]
  },
  {
   "cell_type": "code",
   "execution_count": 15,
   "metadata": {},
   "outputs": [
    {
     "data": {
      "text/html": [
       "<div>\n",
       "<style scoped>\n",
       "    .dataframe tbody tr th:only-of-type {\n",
       "        vertical-align: middle;\n",
       "    }\n",
       "\n",
       "    .dataframe tbody tr th {\n",
       "        vertical-align: top;\n",
       "    }\n",
       "\n",
       "    .dataframe thead th {\n",
       "        text-align: right;\n",
       "    }\n",
       "</style>\n",
       "<table border=\"1\" class=\"dataframe\">\n",
       "  <thead>\n",
       "    <tr style=\"text-align: right;\">\n",
       "      <th></th>\n",
       "      <th>index</th>\n",
       "      <th>waferMap</th>\n",
       "      <th>dieSize</th>\n",
       "      <th>lotName</th>\n",
       "      <th>trianTestLabel</th>\n",
       "      <th>failureType</th>\n",
       "      <th>failureNum</th>\n",
       "      <th>trainTestNum</th>\n",
       "      <th>waferMapDimension</th>\n",
       "      <th>waferMapResized</th>\n",
       "      <th>waferMapResizedDimension</th>\n",
       "    </tr>\n",
       "  </thead>\n",
       "  <tbody>\n",
       "    <tr>\n",
       "      <th>0</th>\n",
       "      <td>0</td>\n",
       "      <td>[[0, 0, 0, 0, 0, 0, 0, 0, 0, 0, 0, 0, 0, 0, 0,...</td>\n",
       "      <td>1683.0</td>\n",
       "      <td>lot1</td>\n",
       "      <td>[[Training]]</td>\n",
       "      <td>[[none]]</td>\n",
       "      <td>8</td>\n",
       "      <td>0</td>\n",
       "      <td>(45, 48)</td>\n",
       "      <td>[[0, 0, 0, 0, 0, 0, 0, 0, 0, 0, 0, 0, 0, 0, 2,...</td>\n",
       "      <td>(32, 32)</td>\n",
       "    </tr>\n",
       "    <tr>\n",
       "      <th>1</th>\n",
       "      <td>1</td>\n",
       "      <td>[[0, 0, 0, 0, 0, 0, 0, 0, 0, 0, 0, 0, 0, 0, 0,...</td>\n",
       "      <td>1683.0</td>\n",
       "      <td>lot1</td>\n",
       "      <td>[[Training]]</td>\n",
       "      <td>[[none]]</td>\n",
       "      <td>8</td>\n",
       "      <td>0</td>\n",
       "      <td>(45, 48)</td>\n",
       "      <td>[[0, 0, 0, 0, 0, 0, 0, 0, 0, 0, 0, 0, 0, 0, 1,...</td>\n",
       "      <td>(32, 32)</td>\n",
       "    </tr>\n",
       "    <tr>\n",
       "      <th>2</th>\n",
       "      <td>2</td>\n",
       "      <td>[[0, 0, 0, 0, 0, 0, 0, 0, 0, 0, 0, 0, 0, 0, 0,...</td>\n",
       "      <td>1683.0</td>\n",
       "      <td>lot1</td>\n",
       "      <td>[[Training]]</td>\n",
       "      <td>[[none]]</td>\n",
       "      <td>8</td>\n",
       "      <td>0</td>\n",
       "      <td>(45, 48)</td>\n",
       "      <td>[[0, 0, 0, 0, 0, 0, 0, 0, 0, 0, 0, 0, 0, 0, 1,...</td>\n",
       "      <td>(32, 32)</td>\n",
       "    </tr>\n",
       "    <tr>\n",
       "      <th>3</th>\n",
       "      <td>3</td>\n",
       "      <td>[[0, 0, 0, 0, 0, 0, 0, 0, 0, 0, 0, 0, 0, 0, 0,...</td>\n",
       "      <td>1683.0</td>\n",
       "      <td>lot1</td>\n",
       "      <td>[[Training]]</td>\n",
       "      <td>[[none]]</td>\n",
       "      <td>8</td>\n",
       "      <td>0</td>\n",
       "      <td>(45, 48)</td>\n",
       "      <td>[[0, 0, 0, 0, 0, 0, 0, 0, 0, 0, 0, 0, 0, 0, 2,...</td>\n",
       "      <td>(32, 32)</td>\n",
       "    </tr>\n",
       "    <tr>\n",
       "      <th>4</th>\n",
       "      <td>4</td>\n",
       "      <td>[[0, 0, 0, 0, 0, 0, 0, 0, 0, 0, 0, 0, 0, 0, 0,...</td>\n",
       "      <td>1683.0</td>\n",
       "      <td>lot1</td>\n",
       "      <td>[[Training]]</td>\n",
       "      <td>[[none]]</td>\n",
       "      <td>8</td>\n",
       "      <td>0</td>\n",
       "      <td>(45, 48)</td>\n",
       "      <td>[[0, 0, 0, 0, 0, 0, 0, 0, 0, 0, 0, 0, 0, 0, 1,...</td>\n",
       "      <td>(32, 32)</td>\n",
       "    </tr>\n",
       "  </tbody>\n",
       "</table>\n",
       "</div>"
      ],
      "text/plain": [
       "   index                                           waferMap  dieSize lotName  \\\n",
       "0      0  [[0, 0, 0, 0, 0, 0, 0, 0, 0, 0, 0, 0, 0, 0, 0,...   1683.0    lot1   \n",
       "1      1  [[0, 0, 0, 0, 0, 0, 0, 0, 0, 0, 0, 0, 0, 0, 0,...   1683.0    lot1   \n",
       "2      2  [[0, 0, 0, 0, 0, 0, 0, 0, 0, 0, 0, 0, 0, 0, 0,...   1683.0    lot1   \n",
       "3      3  [[0, 0, 0, 0, 0, 0, 0, 0, 0, 0, 0, 0, 0, 0, 0,...   1683.0    lot1   \n",
       "4      4  [[0, 0, 0, 0, 0, 0, 0, 0, 0, 0, 0, 0, 0, 0, 0,...   1683.0    lot1   \n",
       "\n",
       "  trianTestLabel failureType failureNum trainTestNum waferMapDimension  \\\n",
       "0   [[Training]]    [[none]]          8            0          (45, 48)   \n",
       "1   [[Training]]    [[none]]          8            0          (45, 48)   \n",
       "2   [[Training]]    [[none]]          8            0          (45, 48)   \n",
       "3   [[Training]]    [[none]]          8            0          (45, 48)   \n",
       "4   [[Training]]    [[none]]          8            0          (45, 48)   \n",
       "\n",
       "                                     waferMapResized waferMapResizedDimension  \n",
       "0  [[0, 0, 0, 0, 0, 0, 0, 0, 0, 0, 0, 0, 0, 0, 2,...                 (32, 32)  \n",
       "1  [[0, 0, 0, 0, 0, 0, 0, 0, 0, 0, 0, 0, 0, 0, 1,...                 (32, 32)  \n",
       "2  [[0, 0, 0, 0, 0, 0, 0, 0, 0, 0, 0, 0, 0, 0, 1,...                 (32, 32)  \n",
       "3  [[0, 0, 0, 0, 0, 0, 0, 0, 0, 0, 0, 0, 0, 0, 2,...                 (32, 32)  \n",
       "4  [[0, 0, 0, 0, 0, 0, 0, 0, 0, 0, 0, 0, 0, 0, 1,...                 (32, 32)  "
      ]
     },
     "execution_count": 15,
     "metadata": {},
     "output_type": "execute_result"
    }
   ],
   "source": [
    "dataframe_with_label['waferMapResized'] = dataframe_with_label.waferMap.apply(resize_waferMap)\n",
    "dataframe_with_label['waferMapResizedDimension'] = dataframe_with_label.waferMapResized.apply(find_waferMap_dimensions)\n",
    "dataframe_with_label.head()"
   ]
  },
  {
   "cell_type": "code",
   "execution_count": 16,
   "metadata": {},
   "outputs": [],
   "source": [
    "dataframe_with_label = dataframe_with_label.drop(\n",
    "    ['waferMap', 'dieSize', 'lotName',\n",
    "     'trianTestLabel', 'trainTestNum',\n",
    "     'waferMapDimension', 'index',\n",
    "     'waferMapResizedDimension'], axis=1)"
   ]
  },
  {
   "cell_type": "markdown",
   "metadata": {},
   "source": [
    "From the 25519 remaining elements, let's take a look at the classes distribution"
   ]
  },
  {
   "cell_type": "code",
   "execution_count": 17,
   "metadata": {},
   "outputs": [
    {
     "name": "stdout",
     "output_type": "stream",
     "text": [
      "(array([0, 1, 2, 3, 4, 5, 6, 7, 8], dtype=object), array([  4294,    555,   5189,   9680,   3593,    866,   1193,    149,\n",
      "       147431]))\n"
     ]
    }
   ],
   "source": [
    "unique_pattern = np.unique(dataframe_with_label.failureNum,\n",
    "                           return_counts=True)\n",
    "print(unique_pattern)"
   ]
  },
  {
   "cell_type": "markdown",
   "metadata": {},
   "source": [
    "Downsampling the rest of the classes to 555:"
   ]
  },
  {
   "cell_type": "code",
   "execution_count": 18,
   "metadata": {},
   "outputs": [],
   "source": [
    "center = dataframe_with_label[dataframe_with_label['failureNum'] == 0]\n",
    "donut = dataframe_with_label[dataframe_with_label['failureNum'] == 1]\n",
    "edge_loc = dataframe_with_label[dataframe_with_label['failureNum'] == 2]\n",
    "edge_ring = dataframe_with_label[dataframe_with_label['failureNum'] == 3]\n",
    "loc = dataframe_with_label[dataframe_with_label['failureNum'] == 4]\n",
    "random = dataframe_with_label[dataframe_with_label['failureNum'] == 5]\n",
    "scratch = dataframe_with_label[dataframe_with_label['failureNum'] == 6]\n",
    "near_full = dataframe_with_label[dataframe_with_label['failureNum'] == 7]\n",
    "none = dataframe_with_label[dataframe_with_label['failureNum'] == 8]"
   ]
  },
  {
   "cell_type": "code",
   "execution_count": 19,
   "metadata": {},
   "outputs": [],
   "source": [
    "from sklearn.utils import resample\n",
    "\n",
    "\n",
    "def downsample_class(_class):\n",
    "    _class = resample(_class, replace=False,\n",
    "                      n_samples=555, random_state=42)\n",
    "    return _class"
   ]
  },
  {
   "cell_type": "code",
   "execution_count": 20,
   "metadata": {},
   "outputs": [],
   "source": [
    "center_downsampled = downsample_class(center)\n",
    "edge_loc_downsampled = downsample_class(edge_loc)\n",
    "edge_ring_downsampled = downsample_class(edge_ring)\n",
    "loc_downsampled = downsample_class(loc)\n",
    "random_downsampled = downsample_class(random)\n",
    "scratch_downsampled = downsample_class(scratch)\n",
    "none_downsampled = downsample_class(none)"
   ]
  },
  {
   "cell_type": "code",
   "execution_count": 78,
   "metadata": {},
   "outputs": [
    {
     "name": "stdout",
     "output_type": "stream",
     "text": [
      "Distribution after downsampling:\n",
      "8    555\n",
      "6    555\n",
      "5    555\n",
      "4    555\n",
      "3    555\n",
      "2    555\n",
      "1    555\n",
      "0    555\n",
      "7    149\n",
      "Name: failureNum, dtype: int64\n"
     ]
    }
   ],
   "source": [
    "downsampled_dataframe = pd.concat([center_downsampled, donut, edge_loc_downsampled, edge_ring_downsampled,\n",
    "                                   loc_downsampled, random_downsampled, scratch_downsampled, near_full,\n",
    "                                   none_downsampled])\n",
    "\n",
    "print('Distribution after downsampling:')\n",
    "print(downsampled_dataframe['failureNum'].value_counts())"
   ]
  },
  {
   "cell_type": "code",
   "execution_count": 22,
   "metadata": {},
   "outputs": [],
   "source": [
    "dataframe_with_pattern = downsampled_dataframe.copy()"
   ]
  },
  {
   "cell_type": "markdown",
   "metadata": {},
   "source": [
    "## 2.3 Visualizing examples <a name=\"examples\"></a>"
   ]
  },
  {
   "cell_type": "code",
   "execution_count": 23,
   "metadata": {},
   "outputs": [
    {
     "data": {
      "text/html": [
       "<div>\n",
       "<style scoped>\n",
       "    .dataframe tbody tr th:only-of-type {\n",
       "        vertical-align: middle;\n",
       "    }\n",
       "\n",
       "    .dataframe tbody tr th {\n",
       "        vertical-align: top;\n",
       "    }\n",
       "\n",
       "    .dataframe thead th {\n",
       "        text-align: right;\n",
       "    }\n",
       "</style>\n",
       "<table border=\"1\" class=\"dataframe\">\n",
       "  <thead>\n",
       "    <tr style=\"text-align: right;\">\n",
       "      <th></th>\n",
       "      <th>failureType</th>\n",
       "      <th>failureNum</th>\n",
       "      <th>waferMapResized</th>\n",
       "    </tr>\n",
       "  </thead>\n",
       "  <tbody>\n",
       "    <tr>\n",
       "      <th>50263</th>\n",
       "      <td>[[Center]]</td>\n",
       "      <td>0</td>\n",
       "      <td>[[0, 0, 0, 0, 0, 0, 0, 0, 0, 0, 0, 0, 0, 2, 1,...</td>\n",
       "    </tr>\n",
       "    <tr>\n",
       "      <th>27341</th>\n",
       "      <td>[[Center]]</td>\n",
       "      <td>0</td>\n",
       "      <td>[[0, 0, 0, 0, 0, 0, 0, 0, 0, 0, 0, 0, 0, 0, 1,...</td>\n",
       "    </tr>\n",
       "    <tr>\n",
       "      <th>127669</th>\n",
       "      <td>[[Center]]</td>\n",
       "      <td>0</td>\n",
       "      <td>[[0, 0, 0, 0, 0, 0, 0, 0, 0, 0, 0, 0, 0, 2, 1,...</td>\n",
       "    </tr>\n",
       "    <tr>\n",
       "      <th>125300</th>\n",
       "      <td>[[Center]]</td>\n",
       "      <td>0</td>\n",
       "      <td>[[0, 0, 0, 0, 0, 0, 0, 0, 0, 0, 0, 0, 0, 1, 1,...</td>\n",
       "    </tr>\n",
       "    <tr>\n",
       "      <th>89192</th>\n",
       "      <td>[[Center]]</td>\n",
       "      <td>0</td>\n",
       "      <td>[[0, 0, 0, 0, 0, 0, 0, 0, 0, 0, 0, 0, 0, 2, 2,...</td>\n",
       "    </tr>\n",
       "  </tbody>\n",
       "</table>\n",
       "</div>"
      ],
      "text/plain": [
       "       failureType failureNum  \\\n",
       "50263   [[Center]]          0   \n",
       "27341   [[Center]]          0   \n",
       "127669  [[Center]]          0   \n",
       "125300  [[Center]]          0   \n",
       "89192   [[Center]]          0   \n",
       "\n",
       "                                          waferMapResized  \n",
       "50263   [[0, 0, 0, 0, 0, 0, 0, 0, 0, 0, 0, 0, 0, 2, 1,...  \n",
       "27341   [[0, 0, 0, 0, 0, 0, 0, 0, 0, 0, 0, 0, 0, 0, 1,...  \n",
       "127669  [[0, 0, 0, 0, 0, 0, 0, 0, 0, 0, 0, 0, 0, 2, 1,...  \n",
       "125300  [[0, 0, 0, 0, 0, 0, 0, 0, 0, 0, 0, 0, 0, 1, 1,...  \n",
       "89192   [[0, 0, 0, 0, 0, 0, 0, 0, 0, 0, 0, 0, 0, 2, 2,...  "
      ]
     },
     "execution_count": 23,
     "metadata": {},
     "output_type": "execute_result"
    }
   ],
   "source": [
    "dataframe_with_pattern.head()"
   ]
  },
  {
   "cell_type": "code",
   "execution_count": 25,
   "metadata": {},
   "outputs": [
    {
     "data": {
      "image/png": "[encoded data removed]",
      "text/plain": [
       "<Figure size 432x288 with 6 Axes>"
      ]
     },
     "metadata": {},
     "output_type": "display_data"
    },
    {
     "data": {
      "image/png": "[encoded data removed]",
      "text/plain": [
       "<Figure size 432x288 with 6 Axes>"
      ]
     },
     "metadata": {},
     "output_type": "display_data"
    },
    {
     "data": {
      "image/png": "[encoded data removed]",
      "text/plain": [
       "<Figure size 432x288 with 6 Axes>"
      ]
     },
     "metadata": {},
     "output_type": "display_data"
    },
    {
     "data": {
      "image/png": "[encoded data removed]",
      "text/plain": [
       "<Figure size 432x288 with 6 Axes>"
      ]
     },
     "metadata": {},
     "output_type": "display_data"
    },
    {
     "data": {
      "image/png": "[encoded data removed]",
      "text/plain": [
       "<Figure size 432x288 with 6 Axes>"
      ]
     },
     "metadata": {},
     "output_type": "display_data"
    },
    {
     "data": {
      "image/png": "[encoded data removed]",
      "text/plain": [
       "<Figure size 432x288 with 6 Axes>"
      ]
     },
     "metadata": {},
     "output_type": "display_data"
    },
    {
     "data": {
      "image/png": "[encoded data removed]",
      "text/plain": [
       "<Figure size 432x288 with 6 Axes>"
      ]
     },
     "metadata": {},
     "output_type": "display_data"
    },
    {
     "data": {
      "image/png": "[encoded data removed]",
      "text/plain": [
       "<Figure size 432x288 with 6 Axes>"
      ]
     },
     "metadata": {},
     "output_type": "display_data"
    },
    {
     "data": {
      "image/png": "[encoded data removed]",
      "text/plain": [
       "<Figure size 432x288 with 6 Axes>"
      ]
     },
     "metadata": {},
     "output_type": "display_data"
    }
   ],
   "source": [
    "labels = ['Center', 'Donut', 'Edge-Loc', 'Edge-Ring',\n",
    "          'Loc', 'Random', 'Scratch', 'Near-full', 'none']\n",
    "n_cols = 6\n",
    "\n",
    "for idx_label, _ in enumerate(labels):\n",
    "    fig, ax = plt.subplots(nrows=1, ncols=n_cols, figsize=(6, 4))\n",
    "    ax = ax.ravel(order='C')\n",
    "    # Select an image indexing the category using labels list\n",
    "    img = dataframe_with_pattern.waferMapResized[dataframe_with_pattern.failureType ==\n",
    "                                                 labels[idx_label]]\n",
    "    for idx_col in range(n_cols):\n",
    "        ax[idx_col].imshow(img[img.index[idx_col]])\n",
    "        ax[idx_col].set_title(\n",
    "            dataframe_with_pattern.failureType[img.index[idx_col]][0][0], fontsize=10)\n",
    "        ax[idx_col].set_xticks([])\n",
    "        ax[idx_col].set_yticks([])\n",
    "    plt.tight_layout()\n",
    "    plt.show()"
   ]
  },
  {
   "cell_type": "markdown",
   "metadata": {},
   "source": [
    "# 3. Hand-crafted features approach <a name=\"hand\"></a>"
   ]
  },
  {
   "cell_type": "markdown",
   "metadata": {},
   "source": [
    "Before going for a deep learning approach, a traditional hand-crafted feature method can be tried"
   ]
  },
  {
   "cell_type": "markdown",
   "metadata": {},
   "source": [
    "## 3.1 Data transformation <a name=\"datatrans\"></a>"
   ]
  },
  {
   "cell_type": "markdown",
   "metadata": {},
   "source": [
    "### 3.1.1 Density-based Features <a name=\"density\"></a>"
   ]
  },
  {
   "cell_type": "markdown",
   "metadata": {},
   "source": [
    "The wafer map can be divided into 13 parts, as show in figure below:\n",
    "\n",
    "<a>\n",
    "    <div style=\"margin: 10px;\">\n",
    "        <p align=\"center\">\n",
    "            <img width=\"20%\" align=\"left\" style=\"margin-right: 10px;\" src=\"./images/13-regions.png\"/>         \n",
    "        </p>\n",
    "    </div>\n",
    "</a>"
   ]
  },
  {
   "cell_type": "code",
   "execution_count": 26,
   "metadata": {},
   "outputs": [],
   "source": [
    "def calculate_density(wafer_map):\n",
    "    return 100*(np.sum(wafer_map == 2)/np.size(wafer_map))\n",
    "\n",
    "\n",
    "def find_regions(wafer_map):\n",
    "    rows = np.size(wafer_map, axis=0)\n",
    "    cols = np.size(wafer_map, axis=1)\n",
    "    internal_division_1 = np.arange(0, rows, rows//5)\n",
    "    internal_division_2 = np.arange(0, cols, cols//5)\n",
    "\n",
    "    region1 = wafer_map[internal_division_1[0]: internal_division_1[1], :]\n",
    "    region2 = wafer_map[:, internal_division_2[4]:]\n",
    "    region3 = wafer_map[internal_division_1[4]:, :]\n",
    "    region4 = wafer_map[:, internal_division_2[0]: internal_division_2[1]]\n",
    "    region5 = wafer_map[internal_division_1[1]: internal_division_1[2],\n",
    "                internal_division_2[1]: internal_division_2[2]]\n",
    "    region6 = wafer_map[internal_division_1[1]: internal_division_1[2],\n",
    "                internal_division_2[2]: internal_division_2[3]]\n",
    "    region7 = wafer_map[internal_division_1[1]: internal_division_1[2],\n",
    "                internal_division_2[3]: internal_division_2[4]]\n",
    "    region8 = wafer_map[internal_division_1[2]: internal_division_1[3],\n",
    "                internal_division_2[1]: internal_division_2[2]]\n",
    "    region9 = wafer_map[internal_division_1[2]: internal_division_1[3],\n",
    "                internal_division_2[2]: internal_division_2[3]]\n",
    "    region10 = wafer_map[internal_division_1[2]: internal_division_1[3],\n",
    "                 internal_division_2[3]: internal_division_2[4]]\n",
    "    region11 = wafer_map[internal_division_1[3]: internal_division_1[4],\n",
    "                 internal_division_2[1]: internal_division_2[2]]\n",
    "    region12 = wafer_map[internal_division_1[3]: internal_division_1[4],\n",
    "                 internal_division_2[2]: internal_division_2[3]]\n",
    "    region13 = wafer_map[internal_division_1[3]: internal_division_1[4],\n",
    "                 internal_division_2[3]: internal_division_2[4]]\n",
    "\n",
    "    feature_region_density = [calculate_density(region1), calculate_density(region2),\n",
    "                              calculate_density(region3), calculate_density(region4),\n",
    "                              calculate_density(region5), calculate_density(region6),\n",
    "                              calculate_density(region7), calculate_density(region8),\n",
    "                              calculate_density(region9), calculate_density(region10),\n",
    "                              calculate_density(region11), calculate_density(region12),\n",
    "                              calculate_density(region3)]\n",
    "\n",
    "    return feature_region_density"
   ]
  },
  {
   "cell_type": "code",
   "execution_count": 27,
   "metadata": {},
   "outputs": [],
   "source": [
    "# Using the feature map image column (waferMap), apply find_regions functions to calculate each region density\n",
    "dataframe_with_pattern['feature_region_density'] = dataframe_with_pattern.waferMapResized.apply(\n",
    "    find_regions)"
   ]
  },
  {
   "cell_type": "code",
   "execution_count": 28,
   "metadata": {},
   "outputs": [
    {
     "data": {
      "image/png": "[encoded data removed]",
      "text/plain": [
       "<Figure size 576x288 with 9 Axes>"
      ]
     },
     "metadata": {},
     "output_type": "display_data"
    }
   ],
   "source": [
    "images_each_category = []\n",
    "for idx, label in enumerate(labels):\n",
    "    images_each_category.append(dataframe_with_pattern.waferMapResized[\n",
    "        dataframe_with_pattern.failureType == labels[idx]].index[0])\n",
    "\n",
    "fig, ax = plt.subplots(nrows=3, ncols=3, figsize=(8, 4))\n",
    "ax = ax.ravel(order='C')\n",
    "for i in range(9):\n",
    "    ax[i].bar(np.linspace(1, 13, 13),\n",
    "              dataframe_with_pattern.feature_region_density[images_each_category[i]])\n",
    "    ax[i].set_title(dataframe_with_pattern.failureType[images_each_category[i]]\n",
    "                    [0][0], fontsize=15)\n",
    "    ax[i].set_xticks([])\n",
    "    ax[i].set_yticks([])\n",
    "\n",
    "plt.tight_layout()\n",
    "plt.show()"
   ]
  },
  {
   "cell_type": "markdown",
   "metadata": {},
   "source": [
    "### 3.1.2 Radon-based Features <a name=\"radon\"></a>"
   ]
  },
  {
   "cell_type": "markdown",
   "metadata": {},
   "source": [
    "Radon-based features are based on the radon transform, which can generate a 2d representation of the wafer map according to a series of projections."
   ]
  },
  {
   "cell_type": "code",
   "execution_count": 29,
   "metadata": {},
   "outputs": [],
   "source": [
    "def change_val(img):\n",
    "    # Changes white pixels in wafermap to black\n",
    "    img[img==1] = 0\n",
    "    return img\n",
    "\n",
    "dataframe_with_pattern_copy = dataframe_with_pattern.copy()\n",
    "dataframe_with_pattern_copy['new_waferMap'] = dataframe_with_pattern_copy.waferMapResized.apply(change_val)"
   ]
  },
  {
   "cell_type": "code",
   "execution_count": 30,
   "metadata": {},
   "outputs": [
    {
     "name": "stderr",
     "output_type": "stream",
     "text": [
      "/home/igor/anaconda3/lib/python3.7/site-packages/skimage/transform/radon_transform.py:91: UserWarning: Radon transform: image must be zero outside the reconstruction circle\n",
      "  warn('Radon transform: image must be zero outside the '\n"
     ]
    },
    {
     "data": {
      "image/png": "[encoded data removed]",
      "text/plain": [
       "<Figure size 720x360 with 9 Axes>"
      ]
     },
     "metadata": {
      "needs_background": "light"
     },
     "output_type": "display_data"
    }
   ],
   "source": [
    "from skimage.transform import radon\n",
    "\n",
    "fig, ax = plt.subplots(nrows=3, ncols=3, figsize=(10, 5))\n",
    "ax = ax.ravel(order='C')\n",
    "for i in range(9):\n",
    "    img = dataframe_with_pattern_copy.new_waferMap[images_each_category[i]]\n",
    "    theta = np.linspace(0., 180., max(img.shape), endpoint=False)\n",
    "    sinogram = radon(img, theta=theta, preserve_range=False)\n",
    "\n",
    "    ax[i].imshow(sinogram, cmap=plt.cm.Greys_r, extent=(\n",
    "        0, 180, 0, sinogram.shape[0]), aspect='auto')\n",
    "    ax[i].set_title(\n",
    "        dataframe_with_pattern_copy.failureType[images_each_category[i]][0][0], fontsize=15)\n",
    "    ax[i].set_xticks([])\n",
    "plt.tight_layout()\n",
    "\n",
    "plt.show()"
   ]
  },
  {
   "cell_type": "markdown",
   "metadata": {},
   "source": [
    "the wafer still varies in size. so using cubic interpolation to obtain fixed dimension feature values for row mean and row standard deviation from radon transform, for each one the dimension is fixed to 20."
   ]
  },
  {
   "cell_type": "markdown",
   "metadata": {},
   "source": [
    "In total, 40 dimensions were extracted for radon-based features."
   ]
  },
  {
   "cell_type": "code",
   "execution_count": 31,
   "metadata": {},
   "outputs": [],
   "source": [
    "def cubic_interpolation_mean(img):\n",
    "    theta = np.linspace(0., 180., max(img.shape), endpoint=False)\n",
    "    sinogram = radon(img, theta=theta)\n",
    "    mean_row = np.mean(sinogram, axis=1)\n",
    "    x = np.linspace(1, mean_row.size, mean_row.size)\n",
    "    y = mean_row\n",
    "    func = interpolate.interp1d(x, y, kind='cubic')\n",
    "    xnew = np.linspace(1, mean_row.size, 20)\n",
    "    # Interpolation function returned by interp1d\n",
    "    ynew = func(xnew)/100\n",
    "    return ynew\n",
    "\n",
    "\n",
    "def cubic_interporlation_standard(img):\n",
    "    theta = np.linspace(0., 180., max(img.shape), endpoint=False)\n",
    "    sinogram = radon(img, theta=theta)\n",
    "    std_row = np.std(sinogram, axis=1)\n",
    "    x = np.linspace(1, std_row.size, std_row.size)\n",
    "    y = std_row\n",
    "    func = interpolate.interp1d(x, y, kind='cubic')\n",
    "    xnew = np.linspace(1, std_row.size, 20)\n",
    "    # Interpolation function returned by interp1d\n",
    "    ynew = func(xnew)/100\n",
    "    return ynew"
   ]
  },
  {
   "cell_type": "code",
   "execution_count": 32,
   "metadata": {},
   "outputs": [
    {
     "name": "stderr",
     "output_type": "stream",
     "text": [
      "/home/igor/anaconda3/lib/python3.7/site-packages/ipykernel_launcher.py:3: UserWarning: Image dtype is not float. By default radon will assume you want to preserve the range of your image (preserve_range=True). In scikit-image 0.18 this behavior will change to preserve_range=False. To avoid this warning, explicitly specify the preserve_range parameter.\n",
      "  This is separate from the ipykernel package so we can avoid doing imports until\n",
      "/home/igor/anaconda3/lib/python3.7/site-packages/ipykernel_launcher.py:16: UserWarning: Image dtype is not float. By default radon will assume you want to preserve the range of your image (preserve_range=True). In scikit-image 0.18 this behavior will change to preserve_range=False. To avoid this warning, explicitly specify the preserve_range parameter.\n",
      "  app.launch_new_instance()\n"
     ]
    }
   ],
   "source": [
    "from scipy import interpolate\n",
    "\n",
    "dataframe_with_pattern_copy['feature_cubic_mean'] = dataframe_with_pattern_copy.waferMapResized.apply(\n",
    "    cubic_interpolation_mean)\n",
    "dataframe_with_pattern_copy['feature_cubic_standard'] = dataframe_with_pattern_copy.waferMapResized.apply(\n",
    "    cubic_interporlation_standard)"
   ]
  },
  {
   "cell_type": "markdown",
   "metadata": {},
   "source": [
    "**Radon-based feature (interpolate from row mean)**"
   ]
  },
  {
   "cell_type": "code",
   "execution_count": 33,
   "metadata": {},
   "outputs": [
    {
     "data": {
      "image/png": "[encoded data removed]",
      "text/plain": [
       "<Figure size 720x360 with 9 Axes>"
      ]
     },
     "metadata": {
      "needs_background": "light"
     },
     "output_type": "display_data"
    }
   ],
   "source": [
    "fig, ax = plt.subplots(nrows=3, ncols=3, figsize=(10, 5))\n",
    "ax = ax.ravel(order='C')\n",
    "for i in range(9):\n",
    "    ax[i].bar(np.linspace(1, 20, 20),\n",
    "              dataframe_with_pattern_copy.feature_cubic_mean[images_each_category[i]])\n",
    "    ax[i].set_title(\n",
    "        dataframe_with_pattern_copy.failureType[images_each_category[i]][0][0], fontsize=10)\n",
    "    ax[i].set_xticks([])\n",
    "    ax[i].set_xlim([0, 21])\n",
    "    ax[i].set_ylim([0, 1])\n",
    "plt.tight_layout()\n",
    "plt.show()"
   ]
  },
  {
   "cell_type": "markdown",
   "metadata": {},
   "source": [
    "**Radon-based feature (interpolate from row standard deviation)**"
   ]
  },
  {
   "cell_type": "code",
   "execution_count": 34,
   "metadata": {},
   "outputs": [
    {
     "data": {
      "image/png": "[encoded data removed]",
      "text/plain": [
       "<Figure size 720x360 with 9 Axes>"
      ]
     },
     "metadata": {
      "needs_background": "light"
     },
     "output_type": "display_data"
    }
   ],
   "source": [
    "fig, ax = plt.subplots(nrows=3, ncols=3, figsize=(10, 5))\n",
    "ax = ax.ravel(order='C')\n",
    "for i in range(9):\n",
    "    ax[i].bar(np.linspace(1, 20, 20),\n",
    "              dataframe_with_pattern_copy.feature_cubic_standard[images_each_category[i]])\n",
    "    ax[i].set_title(\n",
    "        dataframe_with_pattern_copy.failureType[images_each_category[i]][0][0], fontsize=10)\n",
    "    ax[i].set_xticks([])\n",
    "    ax[i].set_xlim([0, 21])\n",
    "    ax[i].set_ylim([0, 0.3])\n",
    "plt.tight_layout()\n",
    "plt.show()"
   ]
  },
  {
   "cell_type": "markdown",
   "metadata": {},
   "source": [
    "### 3.1.3 Geometry-based Features <a name=\"geometry\"></a>"
   ]
  },
  {
   "cell_type": "markdown",
   "metadata": {},
   "source": [
    "- Most salient region identifying can be regarded as noise filtering. \n",
    "- region-labeling algorithm: choose the max area region as the most salient one.\n",
    "- extract geometry features like area, perimeter, length of major axes, length of minor axes, solidity and eccentricity\n"
   ]
  },
  {
   "cell_type": "code",
   "execution_count": 35,
   "metadata": {},
   "outputs": [
    {
     "data": {
      "text/html": [
       "<div>\n",
       "<style scoped>\n",
       "    .dataframe tbody tr th:only-of-type {\n",
       "        vertical-align: middle;\n",
       "    }\n",
       "\n",
       "    .dataframe tbody tr th {\n",
       "        vertical-align: top;\n",
       "    }\n",
       "\n",
       "    .dataframe thead th {\n",
       "        text-align: right;\n",
       "    }\n",
       "</style>\n",
       "<table border=\"1\" class=\"dataframe\">\n",
       "  <thead>\n",
       "    <tr style=\"text-align: right;\">\n",
       "      <th></th>\n",
       "      <th>failureType</th>\n",
       "      <th>failureNum</th>\n",
       "      <th>waferMapResized</th>\n",
       "      <th>feature_region_density</th>\n",
       "      <th>new_waferMap</th>\n",
       "      <th>feature_cubic_mean</th>\n",
       "      <th>feature_cubic_standard</th>\n",
       "    </tr>\n",
       "  </thead>\n",
       "  <tbody>\n",
       "    <tr>\n",
       "      <th>50263</th>\n",
       "      <td>[[Center]]</td>\n",
       "      <td>0</td>\n",
       "      <td>[[0, 0, 0, 0, 0, 0, 0, 0, 0, 0, 0, 0, 0, 2, 0,...</td>\n",
       "      <td>[6.25, 4.6875, 7.421875, 6.25, 8.3333333333333...</td>\n",
       "      <td>[[0, 0, 0, 0, 0, 0, 0, 0, 0, 0, 0, 0, 0, 2, 0,...</td>\n",
       "      <td>[0.02137445714431452, 0.05126446703876009, 0.0...</td>\n",
       "      <td>[0.014103004723081503, 0.0185076438656294, 0.0...</td>\n",
       "    </tr>\n",
       "    <tr>\n",
       "      <th>27341</th>\n",
       "      <td>[[Center]]</td>\n",
       "      <td>0</td>\n",
       "      <td>[[0, 0, 0, 0, 0, 0, 0, 0, 0, 0, 0, 0, 0, 0, 0,...</td>\n",
       "      <td>[9.375, 22.265625, 19.140625, 8.85416666666666...</td>\n",
       "      <td>[[0, 0, 0, 0, 0, 0, 0, 0, 0, 0, 0, 0, 0, 0, 0,...</td>\n",
       "      <td>[0.020703542324475004, 0.07674519325756622, 0....</td>\n",
       "      <td>[0.021702205585179456, 0.0316464573772027, 0.0...</td>\n",
       "    </tr>\n",
       "    <tr>\n",
       "      <th>127669</th>\n",
       "      <td>[[Center]]</td>\n",
       "      <td>0</td>\n",
       "      <td>[[0, 0, 0, 0, 0, 0, 0, 0, 0, 0, 0, 0, 0, 2, 0,...</td>\n",
       "      <td>[5.729166666666666, 9.765625, 5.46875, 9.375, ...</td>\n",
       "      <td>[[0, 0, 0, 0, 0, 0, 0, 0, 0, 0, 0, 0, 0, 2, 0,...</td>\n",
       "      <td>[0.031020597998597754, 0.04601716817895183, 0....</td>\n",
       "      <td>[0.02364379855790732, 0.02463963889991041, 0.0...</td>\n",
       "    </tr>\n",
       "    <tr>\n",
       "      <th>125300</th>\n",
       "      <td>[[Center]]</td>\n",
       "      <td>0</td>\n",
       "      <td>[[0, 0, 0, 0, 0, 0, 0, 0, 0, 0, 0, 0, 0, 0, 0,...</td>\n",
       "      <td>[6.25, 8.203125, 6.25, 6.770833333333333, 5.55...</td>\n",
       "      <td>[[0, 0, 0, 0, 0, 0, 0, 0, 0, 0, 0, 0, 0, 0, 0,...</td>\n",
       "      <td>[0.022465382224156026, 0.04941958408990988, 0....</td>\n",
       "      <td>[0.013923326468759713, 0.02428814120205006, 0....</td>\n",
       "    </tr>\n",
       "    <tr>\n",
       "      <th>89192</th>\n",
       "      <td>[[Center]]</td>\n",
       "      <td>0</td>\n",
       "      <td>[[0, 0, 0, 0, 0, 0, 0, 0, 0, 0, 0, 0, 0, 2, 2,...</td>\n",
       "      <td>[9.895833333333332, 12.5, 15.234375, 14.583333...</td>\n",
       "      <td>[[0, 0, 0, 0, 0, 0, 0, 0, 0, 0, 0, 0, 0, 2, 2,...</td>\n",
       "      <td>[0.05652095838198795, 0.11109742564594408, 0.0...</td>\n",
       "      <td>[0.03859267924710364, 0.030838372212056583, 0....</td>\n",
       "    </tr>\n",
       "  </tbody>\n",
       "</table>\n",
       "</div>"
      ],
      "text/plain": [
       "       failureType failureNum  \\\n",
       "50263   [[Center]]          0   \n",
       "27341   [[Center]]          0   \n",
       "127669  [[Center]]          0   \n",
       "125300  [[Center]]          0   \n",
       "89192   [[Center]]          0   \n",
       "\n",
       "                                          waferMapResized  \\\n",
       "50263   [[0, 0, 0, 0, 0, 0, 0, 0, 0, 0, 0, 0, 0, 2, 0,...   \n",
       "27341   [[0, 0, 0, 0, 0, 0, 0, 0, 0, 0, 0, 0, 0, 0, 0,...   \n",
       "127669  [[0, 0, 0, 0, 0, 0, 0, 0, 0, 0, 0, 0, 0, 2, 0,...   \n",
       "125300  [[0, 0, 0, 0, 0, 0, 0, 0, 0, 0, 0, 0, 0, 0, 0,...   \n",
       "89192   [[0, 0, 0, 0, 0, 0, 0, 0, 0, 0, 0, 0, 0, 2, 2,...   \n",
       "\n",
       "                                   feature_region_density  \\\n",
       "50263   [6.25, 4.6875, 7.421875, 6.25, 8.3333333333333...   \n",
       "27341   [9.375, 22.265625, 19.140625, 8.85416666666666...   \n",
       "127669  [5.729166666666666, 9.765625, 5.46875, 9.375, ...   \n",
       "125300  [6.25, 8.203125, 6.25, 6.770833333333333, 5.55...   \n",
       "89192   [9.895833333333332, 12.5, 15.234375, 14.583333...   \n",
       "\n",
       "                                             new_waferMap  \\\n",
       "50263   [[0, 0, 0, 0, 0, 0, 0, 0, 0, 0, 0, 0, 0, 2, 0,...   \n",
       "27341   [[0, 0, 0, 0, 0, 0, 0, 0, 0, 0, 0, 0, 0, 0, 0,...   \n",
       "127669  [[0, 0, 0, 0, 0, 0, 0, 0, 0, 0, 0, 0, 0, 2, 0,...   \n",
       "125300  [[0, 0, 0, 0, 0, 0, 0, 0, 0, 0, 0, 0, 0, 0, 0,...   \n",
       "89192   [[0, 0, 0, 0, 0, 0, 0, 0, 0, 0, 0, 0, 0, 2, 2,...   \n",
       "\n",
       "                                       feature_cubic_mean  \\\n",
       "50263   [0.02137445714431452, 0.05126446703876009, 0.0...   \n",
       "27341   [0.020703542324475004, 0.07674519325756622, 0....   \n",
       "127669  [0.031020597998597754, 0.04601716817895183, 0....   \n",
       "125300  [0.022465382224156026, 0.04941958408990988, 0....   \n",
       "89192   [0.05652095838198795, 0.11109742564594408, 0.0...   \n",
       "\n",
       "                                   feature_cubic_standard  \n",
       "50263   [0.014103004723081503, 0.0185076438656294, 0.0...  \n",
       "27341   [0.021702205585179456, 0.0316464573772027, 0.0...  \n",
       "127669  [0.02364379855790732, 0.02463963889991041, 0.0...  \n",
       "125300  [0.013923326468759713, 0.02428814120205006, 0....  \n",
       "89192   [0.03859267924710364, 0.030838372212056583, 0....  "
      ]
     },
     "execution_count": 35,
     "metadata": {},
     "output_type": "execute_result"
    }
   ],
   "source": [
    "dataframe_with_pattern_copy.head()"
   ]
  },
  {
   "cell_type": "code",
   "execution_count": 36,
   "metadata": {},
   "outputs": [
    {
     "data": {
      "image/png": "[encoded data removed]",
      "text/plain": [
       "<Figure size 720x360 with 9 Axes>"
      ]
     },
     "metadata": {
      "needs_background": "light"
     },
     "output_type": "display_data"
    }
   ],
   "source": [
    "import scipy\n",
    "import skimage\n",
    "\n",
    "fig, ax = plt.subplots(nrows=3, ncols=3, figsize=(10, 5))\n",
    "ax = ax.ravel(order='C')\n",
    "for i in range(9):\n",
    "    img = dataframe_with_pattern_copy.waferMapResized[images_each_category[i]]\n",
    "    zero_img = np.zeros(img.shape)\n",
    "    img_labels = skimage.measure.label(\n",
    "        img, connectivity=1, background=0)\n",
    "    img_labels = img_labels-1\n",
    "    if img_labels.max() == 0:\n",
    "        no_region = 0\n",
    "    else:\n",
    "        info_region = scipy.stats.mode(img_labels[img_labels > -1], axis=None)\n",
    "        no_region = info_region[0]\n",
    "\n",
    "    zero_img[np.where(img_labels == no_region)] = 2\n",
    "    ax[i].imshow(zero_img)\n",
    "    ax[i].set_title(\n",
    "        dataframe_with_pattern_copy.failureType[images_each_category[i]][0][0], fontsize=10)\n",
    "    ax[i].set_xticks([])\n",
    "plt.tight_layout()\n",
    "plt.show()"
   ]
  },
  {
   "cell_type": "code",
   "execution_count": 37,
   "metadata": {},
   "outputs": [],
   "source": [
    "def cal_dist(img, x, y):\n",
    "    dim0 = np.size(img, axis=0)\n",
    "    dim1 = np.size(img, axis=1)\n",
    "    dist = np.sqrt((x-dim0/2)**2+(y-dim1/2)**2)\n",
    "    return dist\n",
    "\n",
    "\n",
    "def feature_geometry(img):\n",
    "    norm_area = img.shape[0]*img.shape[1]\n",
    "    norm_perimeter = np.sqrt((img.shape[0])**2+(img.shape[1])**2)\n",
    "\n",
    "    img_labels = skimage.measure.label(img, connectivity=1, background=0)\n",
    "\n",
    "    if img_labels.max() == 0:\n",
    "        img_labels[img_labels == 0] = 1\n",
    "        no_region = 0\n",
    "    else:\n",
    "        info_region = scipy.stats.mode(img_labels[img_labels > 0], axis=None)\n",
    "        no_region = info_region[0][0]-1\n",
    "\n",
    "    prop = skimage.measure.regionprops(img_labels)\n",
    "    prop_area = prop[no_region].area/norm_area\n",
    "    prop_perimeter = prop[no_region].perimeter/norm_perimeter\n",
    "\n",
    "    prop_cent = prop[no_region].local_centroid\n",
    "    prop_cent = cal_dist(img, prop_cent[0], prop_cent[1])\n",
    "\n",
    "    prop_majaxis = prop[no_region].major_axis_length/norm_perimeter\n",
    "    prop_minaxis = prop[no_region].minor_axis_length/norm_perimeter\n",
    "    prop_ecc = prop[no_region].eccentricity\n",
    "    prop_solidity = prop[no_region].solidity\n",
    "\n",
    "    return prop_area, prop_perimeter, prop_majaxis, prop_minaxis, prop_ecc, prop_solidity\n",
    "\n",
    "\n",
    "dataframe_with_pattern_copy['feature_geometry'] = dataframe_with_pattern_copy.waferMapResized.apply(\n",
    "    feature_geometry)"
   ]
  },
  {
   "cell_type": "code",
   "execution_count": 38,
   "metadata": {},
   "outputs": [
    {
     "data": {
      "text/plain": [
       "50263     (0.0126953125, 0.2522208691207961, 0.131750709...\n",
       "27341     (0.0966796875, 1.3426953675875424, 0.310317554...\n",
       "127669    (0.0078125, 0.13258252147247765, 0.13601568121...\n",
       "125300    (0.0068359375, 0.1691941738241592, 0.088388347...\n",
       "89192     (0.021484375, 0.4214150429449553, 0.2333809118...\n",
       "                                ...                        \n",
       "153122    (0.0087890625, 0.2080266952966369, 0.154963573...\n",
       "133242    (0.00390625, 0.102117717280199, 0.0625, 0.0382...\n",
       "119222    (0.015625, 0.29183858640099514, 0.129659267788...\n",
       "144000                (0.0009765625, 0.0, 0.0, 0.0, 0, 1.0)\n",
       "99931     (0.0029296875, 0.07544417382415922, 0.05103103...\n",
       "Name: feature_geometry, Length: 4589, dtype: object"
      ]
     },
     "execution_count": 38,
     "metadata": {},
     "output_type": "execute_result"
    }
   ],
   "source": [
    "dataframe_with_pattern_copy.feature_geometry"
   ]
  },
  {
   "cell_type": "markdown",
   "metadata": {},
   "source": [
    "Combining all features together: density-based features: 13, radon-based features: 40, geom-based features: 6 <br>\n",
    "**Total: 59 features**"
   ]
  },
  {
   "cell_type": "code",
   "execution_count": 39,
   "metadata": {},
   "outputs": [],
   "source": [
    "dataframe_all_features = dataframe_with_pattern_copy.copy()"
   ]
  },
  {
   "cell_type": "code",
   "execution_count": 40,
   "metadata": {},
   "outputs": [
    {
     "data": {
      "text/html": [
       "<div>\n",
       "<style scoped>\n",
       "    .dataframe tbody tr th:only-of-type {\n",
       "        vertical-align: middle;\n",
       "    }\n",
       "\n",
       "    .dataframe tbody tr th {\n",
       "        vertical-align: top;\n",
       "    }\n",
       "\n",
       "    .dataframe thead th {\n",
       "        text-align: right;\n",
       "    }\n",
       "</style>\n",
       "<table border=\"1\" class=\"dataframe\">\n",
       "  <thead>\n",
       "    <tr style=\"text-align: right;\">\n",
       "      <th></th>\n",
       "      <th>failureType</th>\n",
       "      <th>failureNum</th>\n",
       "      <th>waferMapResized</th>\n",
       "      <th>feature_region_density</th>\n",
       "      <th>new_waferMap</th>\n",
       "      <th>feature_cubic_mean</th>\n",
       "      <th>feature_cubic_standard</th>\n",
       "      <th>feature_geometry</th>\n",
       "    </tr>\n",
       "  </thead>\n",
       "  <tbody>\n",
       "    <tr>\n",
       "      <th>50263</th>\n",
       "      <td>[[Center]]</td>\n",
       "      <td>0</td>\n",
       "      <td>[[0, 0, 0, 0, 0, 0, 0, 0, 0, 0, 0, 0, 0, 2, 0,...</td>\n",
       "      <td>[6.25, 4.6875, 7.421875, 6.25, 8.3333333333333...</td>\n",
       "      <td>[[0, 0, 0, 0, 0, 0, 0, 0, 0, 0, 0, 0, 0, 2, 0,...</td>\n",
       "      <td>[0.02137445714431452, 0.05126446703876009, 0.0...</td>\n",
       "      <td>[0.014103004723081503, 0.0185076438656294, 0.0...</td>\n",
       "      <td>(0.0126953125, 0.2522208691207961, 0.131750709...</td>\n",
       "    </tr>\n",
       "    <tr>\n",
       "      <th>27341</th>\n",
       "      <td>[[Center]]</td>\n",
       "      <td>0</td>\n",
       "      <td>[[0, 0, 0, 0, 0, 0, 0, 0, 0, 0, 0, 0, 0, 0, 0,...</td>\n",
       "      <td>[9.375, 22.265625, 19.140625, 8.85416666666666...</td>\n",
       "      <td>[[0, 0, 0, 0, 0, 0, 0, 0, 0, 0, 0, 0, 0, 0, 0,...</td>\n",
       "      <td>[0.020703542324475004, 0.07674519325756622, 0....</td>\n",
       "      <td>[0.021702205585179456, 0.0316464573772027, 0.0...</td>\n",
       "      <td>(0.0966796875, 1.3426953675875424, 0.310317554...</td>\n",
       "    </tr>\n",
       "    <tr>\n",
       "      <th>127669</th>\n",
       "      <td>[[Center]]</td>\n",
       "      <td>0</td>\n",
       "      <td>[[0, 0, 0, 0, 0, 0, 0, 0, 0, 0, 0, 0, 0, 2, 0,...</td>\n",
       "      <td>[5.729166666666666, 9.765625, 5.46875, 9.375, ...</td>\n",
       "      <td>[[0, 0, 0, 0, 0, 0, 0, 0, 0, 0, 0, 0, 0, 2, 0,...</td>\n",
       "      <td>[0.031020597998597754, 0.04601716817895183, 0....</td>\n",
       "      <td>[0.02364379855790732, 0.02463963889991041, 0.0...</td>\n",
       "      <td>(0.0078125, 0.13258252147247765, 0.13601568121...</td>\n",
       "    </tr>\n",
       "    <tr>\n",
       "      <th>125300</th>\n",
       "      <td>[[Center]]</td>\n",
       "      <td>0</td>\n",
       "      <td>[[0, 0, 0, 0, 0, 0, 0, 0, 0, 0, 0, 0, 0, 0, 0,...</td>\n",
       "      <td>[6.25, 8.203125, 6.25, 6.770833333333333, 5.55...</td>\n",
       "      <td>[[0, 0, 0, 0, 0, 0, 0, 0, 0, 0, 0, 0, 0, 0, 0,...</td>\n",
       "      <td>[0.022465382224156026, 0.04941958408990988, 0....</td>\n",
       "      <td>[0.013923326468759713, 0.02428814120205006, 0....</td>\n",
       "      <td>(0.0068359375, 0.1691941738241592, 0.088388347...</td>\n",
       "    </tr>\n",
       "    <tr>\n",
       "      <th>89192</th>\n",
       "      <td>[[Center]]</td>\n",
       "      <td>0</td>\n",
       "      <td>[[0, 0, 0, 0, 0, 0, 0, 0, 0, 0, 0, 0, 0, 2, 2,...</td>\n",
       "      <td>[9.895833333333332, 12.5, 15.234375, 14.583333...</td>\n",
       "      <td>[[0, 0, 0, 0, 0, 0, 0, 0, 0, 0, 0, 0, 0, 2, 2,...</td>\n",
       "      <td>[0.05652095838198795, 0.11109742564594408, 0.0...</td>\n",
       "      <td>[0.03859267924710364, 0.030838372212056583, 0....</td>\n",
       "      <td>(0.021484375, 0.4214150429449553, 0.2333809118...</td>\n",
       "    </tr>\n",
       "  </tbody>\n",
       "</table>\n",
       "</div>"
      ],
      "text/plain": [
       "       failureType failureNum  \\\n",
       "50263   [[Center]]          0   \n",
       "27341   [[Center]]          0   \n",
       "127669  [[Center]]          0   \n",
       "125300  [[Center]]          0   \n",
       "89192   [[Center]]          0   \n",
       "\n",
       "                                          waferMapResized  \\\n",
       "50263   [[0, 0, 0, 0, 0, 0, 0, 0, 0, 0, 0, 0, 0, 2, 0,...   \n",
       "27341   [[0, 0, 0, 0, 0, 0, 0, 0, 0, 0, 0, 0, 0, 0, 0,...   \n",
       "127669  [[0, 0, 0, 0, 0, 0, 0, 0, 0, 0, 0, 0, 0, 2, 0,...   \n",
       "125300  [[0, 0, 0, 0, 0, 0, 0, 0, 0, 0, 0, 0, 0, 0, 0,...   \n",
       "89192   [[0, 0, 0, 0, 0, 0, 0, 0, 0, 0, 0, 0, 0, 2, 2,...   \n",
       "\n",
       "                                   feature_region_density  \\\n",
       "50263   [6.25, 4.6875, 7.421875, 6.25, 8.3333333333333...   \n",
       "27341   [9.375, 22.265625, 19.140625, 8.85416666666666...   \n",
       "127669  [5.729166666666666, 9.765625, 5.46875, 9.375, ...   \n",
       "125300  [6.25, 8.203125, 6.25, 6.770833333333333, 5.55...   \n",
       "89192   [9.895833333333332, 12.5, 15.234375, 14.583333...   \n",
       "\n",
       "                                             new_waferMap  \\\n",
       "50263   [[0, 0, 0, 0, 0, 0, 0, 0, 0, 0, 0, 0, 0, 2, 0,...   \n",
       "27341   [[0, 0, 0, 0, 0, 0, 0, 0, 0, 0, 0, 0, 0, 0, 0,...   \n",
       "127669  [[0, 0, 0, 0, 0, 0, 0, 0, 0, 0, 0, 0, 0, 2, 0,...   \n",
       "125300  [[0, 0, 0, 0, 0, 0, 0, 0, 0, 0, 0, 0, 0, 0, 0,...   \n",
       "89192   [[0, 0, 0, 0, 0, 0, 0, 0, 0, 0, 0, 0, 0, 2, 2,...   \n",
       "\n",
       "                                       feature_cubic_mean  \\\n",
       "50263   [0.02137445714431452, 0.05126446703876009, 0.0...   \n",
       "27341   [0.020703542324475004, 0.07674519325756622, 0....   \n",
       "127669  [0.031020597998597754, 0.04601716817895183, 0....   \n",
       "125300  [0.022465382224156026, 0.04941958408990988, 0....   \n",
       "89192   [0.05652095838198795, 0.11109742564594408, 0.0...   \n",
       "\n",
       "                                   feature_cubic_standard  \\\n",
       "50263   [0.014103004723081503, 0.0185076438656294, 0.0...   \n",
       "27341   [0.021702205585179456, 0.0316464573772027, 0.0...   \n",
       "127669  [0.02364379855790732, 0.02463963889991041, 0.0...   \n",
       "125300  [0.013923326468759713, 0.02428814120205006, 0....   \n",
       "89192   [0.03859267924710364, 0.030838372212056583, 0....   \n",
       "\n",
       "                                         feature_geometry  \n",
       "50263   (0.0126953125, 0.2522208691207961, 0.131750709...  \n",
       "27341   (0.0966796875, 1.3426953675875424, 0.310317554...  \n",
       "127669  (0.0078125, 0.13258252147247765, 0.13601568121...  \n",
       "125300  (0.0068359375, 0.1691941738241592, 0.088388347...  \n",
       "89192   (0.021484375, 0.4214150429449553, 0.2333809118...  "
      ]
     },
     "execution_count": 40,
     "metadata": {},
     "output_type": "execute_result"
    }
   ],
   "source": [
    "dataframe_all_features.head()"
   ]
  },
  {
   "cell_type": "code",
   "execution_count": 41,
   "metadata": {},
   "outputs": [
    {
     "data": {
      "text/plain": [
       "[6.25,\n",
       " 4.6875,\n",
       " 7.421875,\n",
       " 6.25,\n",
       " 8.333333333333332,\n",
       " 19.444444444444446,\n",
       " 13.88888888888889,\n",
       " 22.22222222222222,\n",
       " 33.33333333333333,\n",
       " 36.11111111111111,\n",
       " 8.333333333333332,\n",
       " 27.77777777777778,\n",
       " 7.421875]"
      ]
     },
     "execution_count": 41,
     "metadata": {},
     "output_type": "execute_result"
    }
   ],
   "source": [
    "dataframe_all_features.feature_region_density.iloc[0]"
   ]
  },
  {
   "cell_type": "code",
   "execution_count": 42,
   "metadata": {},
   "outputs": [],
   "source": [
    "# 13 features\n",
    "feature_region_density = [dataframe_all_features.feature_region_density.iloc[i]\n",
    "                          for i in range(dataframe_all_features.shape[0])]"
   ]
  },
  {
   "cell_type": "code",
   "execution_count": 43,
   "metadata": {},
   "outputs": [],
   "source": [
    "# 20 features\n",
    "feature_cubic_mean = [dataframe_all_features.feature_cubic_mean.iloc[i]\n",
    "                      for i in range(dataframe_all_features.shape[0])]\n",
    "# 20 features\n",
    "feature_cubic_standard = [dataframe_all_features.feature_cubic_standard.iloc[i]\n",
    "                          for i in range(dataframe_all_features.shape[0])]\n",
    "# 6 features\n",
    "feature_geometry = [dataframe_all_features.feature_geometry.iloc[i]\n",
    "                    for i in range(dataframe_all_features.shape[0])]\n",
    "# Features together\n",
    "features_all = np.concatenate((np.array(feature_region_density), np.array(\n",
    "    feature_cubic_mean), np.array(feature_cubic_standard), np.array(feature_geometry)), axis=1)"
   ]
  },
  {
   "cell_type": "code",
   "execution_count": 44,
   "metadata": {},
   "outputs": [],
   "source": [
    "label = [dataframe_all_features.failureNum.iloc[i]\n",
    "         for i in range(dataframe_all_features.shape[0])]\n",
    "label = np.array(label)"
   ]
  },
  {
   "cell_type": "markdown",
   "metadata": {},
   "source": [
    "## 3.2 Classifying with SVM <a name=\"svm\"></a>"
   ]
  },
  {
   "cell_type": "code",
   "execution_count": 45,
   "metadata": {},
   "outputs": [
    {
     "name": "stderr",
     "output_type": "stream",
     "text": [
      "Using TensorFlow backend.\n"
     ]
    },
    {
     "name": "stdout",
     "output_type": "stream",
     "text": [
      "Training target statistics: Counter({8: 432, 5: 425, 2: 418, 1: 415, 0: 415, 3: 411, 6: 407, 4: 404, 7: 114})\n",
      "Testing target statistics: Counter({4: 151, 6: 148, 3: 144, 0: 140, 1: 140, 2: 137, 5: 130, 8: 123, 7: 35})\n"
     ]
    }
   ],
   "source": [
    "from sklearn.model_selection import train_test_split\n",
    "from keras.utils import np_utils\n",
    "from collections import Counter\n",
    "\n",
    "# Features\n",
    "X = features_all\n",
    "\n",
    "# Label\n",
    "y = label\n",
    "\n",
    "# Splitting the features in train / test\n",
    "X_train, X_test, y_train, y_test = train_test_split(X, y, random_state=0)\n",
    "print('Training target statistics: {}'.format(Counter(y_train)))\n",
    "print('Testing target statistics: {}'.format(Counter(y_test)))"
   ]
  },
  {
   "cell_type": "code",
   "execution_count": 46,
   "metadata": {},
   "outputs": [
    {
     "name": "stdout",
     "output_type": "stream",
     "text": [
      "One-Vs-One Training acc: 78.02964254577158\n",
      "One-Vs-One Testing acc: 75.08710801393728\n"
     ]
    }
   ],
   "source": [
    "from sklearn.svm import LinearSVC\n",
    "from sklearn.multiclass import OneVsOneClassifier\n",
    "\n",
    "classifier = OneVsOneClassifier(\n",
    "    LinearSVC(dual = False, C=1.0, random_state=0)).fit(X_train, y_train)\n",
    "\n",
    "y_train_pred = classifier.predict(X_train)\n",
    "y_test_pred = classifier.predict(X_test)\n",
    "\n",
    "train_accuracy = np.sum(y_train == y_train_pred, axis=0,\n",
    "                        dtype='float') / X_train.shape[0]\n",
    "test_accuracy = np.sum(y_test == y_test_pred, axis=0,\n",
    "                       dtype='float') / X_test.shape[0]\n",
    "\n",
    "print('One-Vs-One Training acc: {}'.format(train_accuracy*100))\n",
    "print('One-Vs-One Testing acc: {}'.format(test_accuracy*100))"
   ]
  },
  {
   "cell_type": "code",
   "execution_count": 47,
   "metadata": {},
   "outputs": [],
   "source": [
    "def plot_confusion_matrix(confusion_matrix, normalize=False,\n",
    "                          title='Confusion matrix', cmap=plt.cm.Blues):\n",
    "\n",
    "    if normalize:\n",
    "        confusion_matrix = confusion_matrix.astype('float') / \\\n",
    "            confusion_matrix.sum(axis=1)[:, np.newaxis]\n",
    "        print(\"Normalized confusion matrix\")\n",
    "    else:\n",
    "        print('Confusion matrix, without normalization')\n",
    "\n",
    "    plt.imshow(confusion_matrix, interpolation='nearest', cmap=cmap)\n",
    "    plt.title(title)\n",
    "    plt.colorbar()\n",
    "\n",
    "    numerical_format = '.2f' if normalize else 'd'\n",
    "    threshold = confusion_matrix.max() / 2.\n",
    "    for i, j in itertools.product(range(confusion_matrix.shape[0]),\n",
    "                                  range(confusion_matrix.shape[1])):\n",
    "        plt.text(j, i, format(confusion_matrix[i, j], numerical_format),\n",
    "                 horizontalalignment=\"center\",\n",
    "                 color=\"white\" if confusion_matrix[i, j] > threshold else \"black\")\n",
    "\n",
    "    plt.tight_layout()\n",
    "    plt.ylabel('True label')\n",
    "    plt.xlabel('Predicted label')"
   ]
  },
  {
   "cell_type": "code",
   "execution_count": 48,
   "metadata": {},
   "outputs": [
    {
     "name": "stdout",
     "output_type": "stream",
     "text": [
      "Confusion matrix, without normalization\n",
      "Normalized confusion matrix\n"
     ]
    },
    {
     "data": {
      "image/png": "[encoded data removed]",
      "text/plain": [
       "<Figure size 720x432 with 4 Axes>"
      ]
     },
     "metadata": {
      "needs_background": "light"
     },
     "output_type": "display_data"
    }
   ],
   "source": [
    "import itertools\n",
    "import sklearn.metrics\n",
    "from matplotlib import gridspec\n",
    "\n",
    "confusion_matrix = sklearn.metrics.confusion_matrix(y_test, y_test_pred)\n",
    "\n",
    "fig = plt.figure(figsize=(10, 6))\n",
    "grid_spec = gridspec.GridSpec(1, 2, width_ratios=[1, 1])\n",
    "\n",
    "# Plot non-normalized confusion matrix\n",
    "plt.subplot(grid_spec[0])\n",
    "plot_confusion_matrix(confusion_matrix,\n",
    "                      title='Confusion matrix')\n",
    "\n",
    "# Plot normalized confusion matrix\n",
    "plt.subplot(grid_spec[1])\n",
    "plot_confusion_matrix(confusion_matrix, normalize=True,\n",
    "                      title='Normalized confusion matrix')\n",
    "\n",
    "plt.show()"
   ]
  },
  {
   "cell_type": "markdown",
   "metadata": {},
   "source": [
    "* The confusion matrix shows that the classifiers manages the problem relatively well, but has a low score for class Nr 6 (Scratch) and Nr 4 (Loc)"
   ]
  },
  {
   "cell_type": "markdown",
   "metadata": {},
   "source": [
    "# 4. A Deep Learning approach <a name=\"deep\"></a>"
   ]
  },
  {
   "cell_type": "code",
   "execution_count": 49,
   "metadata": {},
   "outputs": [
    {
     "data": {
      "text/html": [
       "<div>\n",
       "<style scoped>\n",
       "    .dataframe tbody tr th:only-of-type {\n",
       "        vertical-align: middle;\n",
       "    }\n",
       "\n",
       "    .dataframe tbody tr th {\n",
       "        vertical-align: top;\n",
       "    }\n",
       "\n",
       "    .dataframe thead th {\n",
       "        text-align: right;\n",
       "    }\n",
       "</style>\n",
       "<table border=\"1\" class=\"dataframe\">\n",
       "  <thead>\n",
       "    <tr style=\"text-align: right;\">\n",
       "      <th></th>\n",
       "      <th>failureType</th>\n",
       "      <th>failureNum</th>\n",
       "      <th>waferMapResized</th>\n",
       "    </tr>\n",
       "  </thead>\n",
       "  <tbody>\n",
       "    <tr>\n",
       "      <th>50263</th>\n",
       "      <td>[[Center]]</td>\n",
       "      <td>0</td>\n",
       "      <td>[[0, 0, 0, 0, 0, 0, 0, 0, 0, 0, 0, 0, 0, 2, 0,...</td>\n",
       "    </tr>\n",
       "    <tr>\n",
       "      <th>27341</th>\n",
       "      <td>[[Center]]</td>\n",
       "      <td>0</td>\n",
       "      <td>[[0, 0, 0, 0, 0, 0, 0, 0, 0, 0, 0, 0, 0, 0, 0,...</td>\n",
       "    </tr>\n",
       "    <tr>\n",
       "      <th>127669</th>\n",
       "      <td>[[Center]]</td>\n",
       "      <td>0</td>\n",
       "      <td>[[0, 0, 0, 0, 0, 0, 0, 0, 0, 0, 0, 0, 0, 2, 0,...</td>\n",
       "    </tr>\n",
       "    <tr>\n",
       "      <th>125300</th>\n",
       "      <td>[[Center]]</td>\n",
       "      <td>0</td>\n",
       "      <td>[[0, 0, 0, 0, 0, 0, 0, 0, 0, 0, 0, 0, 0, 0, 0,...</td>\n",
       "    </tr>\n",
       "    <tr>\n",
       "      <th>89192</th>\n",
       "      <td>[[Center]]</td>\n",
       "      <td>0</td>\n",
       "      <td>[[0, 0, 0, 0, 0, 0, 0, 0, 0, 0, 0, 0, 0, 2, 2,...</td>\n",
       "    </tr>\n",
       "    <tr>\n",
       "      <th>...</th>\n",
       "      <td>...</td>\n",
       "      <td>...</td>\n",
       "      <td>...</td>\n",
       "    </tr>\n",
       "    <tr>\n",
       "      <th>153122</th>\n",
       "      <td>[[none]]</td>\n",
       "      <td>8</td>\n",
       "      <td>[[0, 0, 0, 0, 0, 0, 0, 0, 0, 0, 0, 0, 0, 0, 0,...</td>\n",
       "    </tr>\n",
       "    <tr>\n",
       "      <th>133242</th>\n",
       "      <td>[[none]]</td>\n",
       "      <td>8</td>\n",
       "      <td>[[0, 0, 0, 0, 0, 0, 0, 0, 0, 0, 0, 0, 0, 0, 0,...</td>\n",
       "    </tr>\n",
       "    <tr>\n",
       "      <th>119222</th>\n",
       "      <td>[[none]]</td>\n",
       "      <td>8</td>\n",
       "      <td>[[0, 0, 0, 0, 0, 0, 0, 0, 0, 0, 0, 0, 0, 2, 2,...</td>\n",
       "    </tr>\n",
       "    <tr>\n",
       "      <th>144000</th>\n",
       "      <td>[[none]]</td>\n",
       "      <td>8</td>\n",
       "      <td>[[0, 0, 0, 0, 0, 0, 0, 0, 0, 0, 0, 0, 0, 0, 0,...</td>\n",
       "    </tr>\n",
       "    <tr>\n",
       "      <th>99931</th>\n",
       "      <td>[[none]]</td>\n",
       "      <td>8</td>\n",
       "      <td>[[0, 0, 0, 0, 0, 0, 0, 0, 0, 0, 0, 0, 0, 0, 0,...</td>\n",
       "    </tr>\n",
       "  </tbody>\n",
       "</table>\n",
       "<p>4589 rows × 3 columns</p>\n",
       "</div>"
      ],
      "text/plain": [
       "       failureType failureNum  \\\n",
       "50263   [[Center]]          0   \n",
       "27341   [[Center]]          0   \n",
       "127669  [[Center]]          0   \n",
       "125300  [[Center]]          0   \n",
       "89192   [[Center]]          0   \n",
       "...            ...        ...   \n",
       "153122    [[none]]          8   \n",
       "133242    [[none]]          8   \n",
       "119222    [[none]]          8   \n",
       "144000    [[none]]          8   \n",
       "99931     [[none]]          8   \n",
       "\n",
       "                                          waferMapResized  \n",
       "50263   [[0, 0, 0, 0, 0, 0, 0, 0, 0, 0, 0, 0, 0, 2, 0,...  \n",
       "27341   [[0, 0, 0, 0, 0, 0, 0, 0, 0, 0, 0, 0, 0, 0, 0,...  \n",
       "127669  [[0, 0, 0, 0, 0, 0, 0, 0, 0, 0, 0, 0, 0, 2, 0,...  \n",
       "125300  [[0, 0, 0, 0, 0, 0, 0, 0, 0, 0, 0, 0, 0, 0, 0,...  \n",
       "89192   [[0, 0, 0, 0, 0, 0, 0, 0, 0, 0, 0, 0, 0, 2, 2,...  \n",
       "...                                                   ...  \n",
       "153122  [[0, 0, 0, 0, 0, 0, 0, 0, 0, 0, 0, 0, 0, 0, 0,...  \n",
       "133242  [[0, 0, 0, 0, 0, 0, 0, 0, 0, 0, 0, 0, 0, 0, 0,...  \n",
       "119222  [[0, 0, 0, 0, 0, 0, 0, 0, 0, 0, 0, 0, 0, 2, 2,...  \n",
       "144000  [[0, 0, 0, 0, 0, 0, 0, 0, 0, 0, 0, 0, 0, 0, 0,...  \n",
       "99931   [[0, 0, 0, 0, 0, 0, 0, 0, 0, 0, 0, 0, 0, 0, 0,...  \n",
       "\n",
       "[4589 rows x 3 columns]"
      ]
     },
     "execution_count": 49,
     "metadata": {},
     "output_type": "execute_result"
    }
   ],
   "source": [
    "downsampled_dataframe"
   ]
  },
  {
   "cell_type": "code",
   "execution_count": 50,
   "metadata": {},
   "outputs": [
    {
     "data": {
      "text/plain": [
       "failureType        4589\n",
       "failureNum         4589\n",
       "waferMapResized    4589\n",
       "dtype: int64"
      ]
     },
     "execution_count": 50,
     "metadata": {},
     "output_type": "execute_result"
    }
   ],
   "source": [
    "downsampled_dataframe.count()"
   ]
  },
  {
   "cell_type": "code",
   "execution_count": 51,
   "metadata": {},
   "outputs": [],
   "source": [
    "# Features\n",
    "X = downsampled_dataframe.waferMapResized"
   ]
  },
  {
   "cell_type": "code",
   "execution_count": 52,
   "metadata": {},
   "outputs": [],
   "source": [
    "x2_reshaped = []\n",
    "for item in X:\n",
    "    x2_reshaped.append(item)\n",
    "\n",
    "X_reshaped = np.array(x2_reshaped)"
   ]
  },
  {
   "cell_type": "code",
   "execution_count": 53,
   "metadata": {},
   "outputs": [
    {
     "data": {
      "text/plain": [
       "(4589, 32, 32)"
      ]
     },
     "execution_count": 53,
     "metadata": {},
     "output_type": "execute_result"
    }
   ],
   "source": [
    "X_reshaped.shape"
   ]
  },
  {
   "cell_type": "code",
   "execution_count": 54,
   "metadata": {},
   "outputs": [
    {
     "data": {
      "text/plain": [
       "(4589, 32, 32, 1)"
      ]
     },
     "execution_count": 54,
     "metadata": {},
     "output_type": "execute_result"
    }
   ],
   "source": [
    "X_reshaped = np.expand_dims(X_reshaped, axis=0)\n",
    "X_reshaped = np.transpose(X_reshaped, (1, 2, 3, 0))\n",
    "X_reshaped.shape"
   ]
  },
  {
   "cell_type": "code",
   "execution_count": 55,
   "metadata": {},
   "outputs": [
    {
     "name": "stdout",
     "output_type": "stream",
     "text": [
      "Training target statistics: Counter({8: 432, 5: 425, 2: 418, 1: 415, 0: 415, 3: 411, 6: 407, 4: 404, 7: 114})\n",
      "Testing target statistics: Counter({4: 151, 6: 148, 3: 144, 0: 140, 1: 140, 2: 137, 5: 130, 8: 123, 7: 35})\n"
     ]
    }
   ],
   "source": [
    "# Label\n",
    "y = downsampled_dataframe.failureNum\n",
    "\n",
    "# Splitting the features in train / test\n",
    "X_train, X_test, y_train, y_test = train_test_split(X_reshaped, y, random_state=0)\n",
    "print('Training target statistics: {}'.format(Counter(y_train)))\n",
    "print('Testing target statistics: {}'.format(Counter(y_test)))"
   ]
  },
  {
   "cell_type": "code",
   "execution_count": 56,
   "metadata": {},
   "outputs": [],
   "source": [
    "from tensorflow.keras.models import Sequential\n",
    "from tensorflow.keras.layers import Activation, Dropout, Flatten, Dense, Conv2D, MaxPool2D\n",
    "from tensorflow.keras.callbacks import EarlyStopping\n",
    "\n",
    "import warnings\n",
    "warnings.filterwarnings('ignore')"
   ]
  },
  {
   "cell_type": "markdown",
   "metadata": {},
   "source": [
    "## 4.1 Simple CNN <a name=\"cnn\"></a>"
   ]
  },
  {
   "cell_type": "code",
   "execution_count": 57,
   "metadata": {},
   "outputs": [
    {
     "name": "stdout",
     "output_type": "stream",
     "text": [
      "WARNING:tensorflow:From /home/igor/anaconda3/lib/python3.7/site-packages/tensorflow/python/ops/init_ops.py:1251: calling VarianceScaling.__init__ (from tensorflow.python.ops.init_ops) with dtype is deprecated and will be removed in a future version.\n",
      "Instructions for updating:\n",
      "Call initializer instance with the dtype argument instead of passing it to the constructor\n",
      "Model: \"sequential\"\n",
      "_________________________________________________________________\n",
      "Layer (type)                 Output Shape              Param #   \n",
      "=================================================================\n",
      "conv2d (Conv2D)              (None, 27, 27, 32)        1184      \n",
      "_________________________________________________________________\n",
      "max_pooling2d (MaxPooling2D) (None, 13, 13, 32)        0         \n",
      "_________________________________________________________________\n",
      "dropout (Dropout)            (None, 13, 13, 32)        0         \n",
      "_________________________________________________________________\n",
      "conv2d_1 (Conv2D)            (None, 10, 10, 64)        32832     \n",
      "_________________________________________________________________\n",
      "max_pooling2d_1 (MaxPooling2 (None, 5, 5, 64)          0         \n",
      "_________________________________________________________________\n",
      "dropout_1 (Dropout)          (None, 5, 5, 64)          0         \n",
      "_________________________________________________________________\n",
      "flatten (Flatten)            (None, 1600)              0         \n",
      "_________________________________________________________________\n",
      "dense (Dense)                (None, 1024)              1639424   \n",
      "_________________________________________________________________\n",
      "dropout_2 (Dropout)          (None, 1024)              0         \n",
      "_________________________________________________________________\n",
      "dense_1 (Dense)              (None, 9)                 9225      \n",
      "=================================================================\n",
      "Total params: 1,682,665\n",
      "Trainable params: 1,682,665\n",
      "Non-trainable params: 0\n",
      "_________________________________________________________________\n"
     ]
    }
   ],
   "source": [
    "model = Sequential()\n",
    "img_shape = (32, 32, 1)\n",
    "\n",
    "# First set of layers\n",
    "\n",
    "# Convolutional layer\n",
    "model.add(Conv2D(filters=32, kernel_size=(6, 6),\n",
    "                 input_shape=img_shape, activation='relu',))\n",
    "# Pooling layer\n",
    "model.add(MaxPool2D(pool_size=(2, 2)))\n",
    "model.add(Dropout(0.5))\n",
    "\n",
    "# Second set of layers\n",
    "\n",
    "# Convolutional layer\n",
    "model.add(Conv2D(filters=64, kernel_size=(4, 4), activation='relu',))\n",
    "# Pooling layer\n",
    "model.add(MaxPool2D(pool_size=(2, 2)))\n",
    "model.add(Dropout(0.5))\n",
    "\n",
    "# Flatten images before fully connected dense layer\n",
    "model.add(Flatten())\n",
    "\n",
    "# Dense layer\n",
    "model.add(Dense(1024, activation='relu'))\n",
    "model.add(Dropout(0.5))\n",
    "\n",
    "# Classifier layer, 9 classes\n",
    "model.add(Dense(9, activation='softmax'))\n",
    "\n",
    "# Compile model\n",
    "model.compile(loss='sparse_categorical_crossentropy',\n",
    "              #loss='categorical_crossentropy',\n",
    "              optimizer='adam',\n",
    "              metrics=['accuracy'])\n",
    "\n",
    "model.summary()"
   ]
  },
  {
   "cell_type": "code",
   "execution_count": 58,
   "metadata": {},
   "outputs": [],
   "source": [
    "early_stop = EarlyStopping(monitor='val_acc', patience=20)"
   ]
  },
  {
   "cell_type": "code",
   "execution_count": 59,
   "metadata": {},
   "outputs": [
    {
     "name": "stdout",
     "output_type": "stream",
     "text": [
      "Train on 3441 samples, validate on 1148 samples\n",
      "Epoch 1/50\n",
      "3441/3441 [==============================] - 10s 3ms/sample - loss: 1.6359 - acc: 0.3795 - val_loss: 1.1659 - val_acc: 0.6054\n",
      "Epoch 2/50\n",
      "3441/3441 [==============================] - 2s 641us/sample - loss: 1.0836 - acc: 0.5990 - val_loss: 1.1093 - val_acc: 0.6150\n",
      "Epoch 3/50\n",
      "3441/3441 [==============================] - 2s 653us/sample - loss: 0.9434 - acc: 0.6376 - val_loss: 0.8653 - val_acc: 0.6803\n",
      "Epoch 4/50\n",
      "3441/3441 [==============================] - 2s 656us/sample - loss: 0.8309 - acc: 0.6783 - val_loss: 0.7838 - val_acc: 0.7030\n",
      "Epoch 5/50\n",
      "3441/3441 [==============================] - 2s 650us/sample - loss: 0.7836 - acc: 0.7010 - val_loss: 0.6936 - val_acc: 0.7413\n",
      "Epoch 6/50\n",
      "3441/3441 [==============================] - 2s 641us/sample - loss: 0.7533 - acc: 0.7068 - val_loss: 0.7008 - val_acc: 0.7517\n",
      "Epoch 7/50\n",
      "3441/3441 [==============================] - 3s 757us/sample - loss: 0.7038 - acc: 0.7297 - val_loss: 0.6692 - val_acc: 0.7622\n",
      "Epoch 8/50\n",
      "3441/3441 [==============================] - 3s 765us/sample - loss: 0.6684 - acc: 0.7498 - val_loss: 0.6622 - val_acc: 0.7535\n",
      "Epoch 9/50\n",
      "3441/3441 [==============================] - 2s 643us/sample - loss: 0.6381 - acc: 0.7600 - val_loss: 0.6362 - val_acc: 0.7683\n",
      "Epoch 10/50\n",
      "3441/3441 [==============================] - 2s 644us/sample - loss: 0.5955 - acc: 0.7788 - val_loss: 0.6063 - val_acc: 0.7666\n",
      "Epoch 11/50\n",
      "3441/3441 [==============================] - 2s 671us/sample - loss: 0.5911 - acc: 0.7815 - val_loss: 0.5778 - val_acc: 0.7901\n",
      "Epoch 12/50\n",
      "3441/3441 [==============================] - 2s 714us/sample - loss: 0.5547 - acc: 0.7870 - val_loss: 0.5780 - val_acc: 0.7822\n",
      "Epoch 13/50\n",
      "3441/3441 [==============================] - 3s 803us/sample - loss: 0.5416 - acc: 0.7980 - val_loss: 0.6292 - val_acc: 0.7718\n",
      "Epoch 14/50\n",
      "3441/3441 [==============================] - 3s 862us/sample - loss: 0.4970 - acc: 0.8195 - val_loss: 0.6633 - val_acc: 0.7666\n",
      "Epoch 15/50\n",
      "3441/3441 [==============================] - 3s 904us/sample - loss: 0.5082 - acc: 0.8131 - val_loss: 0.5681 - val_acc: 0.7936\n",
      "Epoch 16/50\n",
      "3441/3441 [==============================] - 3s 845us/sample - loss: 0.4725 - acc: 0.8288 - val_loss: 0.5848 - val_acc: 0.7805\n",
      "Epoch 17/50\n",
      "3441/3441 [==============================] - 3s 752us/sample - loss: 0.4583 - acc: 0.8332 - val_loss: 0.5872 - val_acc: 0.7805\n",
      "Epoch 18/50\n",
      "3441/3441 [==============================] - 3s 730us/sample - loss: 0.4494 - acc: 0.8335 - val_loss: 0.5755 - val_acc: 0.7840\n",
      "Epoch 19/50\n",
      "3441/3441 [==============================] - 2s 693us/sample - loss: 0.4267 - acc: 0.8358 - val_loss: 0.5651 - val_acc: 0.8040\n",
      "Epoch 20/50\n",
      "3441/3441 [==============================] - 2s 640us/sample - loss: 0.3971 - acc: 0.8527 - val_loss: 0.6103 - val_acc: 0.7944\n",
      "Epoch 21/50\n",
      "3441/3441 [==============================] - 2s 713us/sample - loss: 0.3890 - acc: 0.8631 - val_loss: 0.5586 - val_acc: 0.8023\n",
      "Epoch 22/50\n",
      "3441/3441 [==============================] - 2s 686us/sample - loss: 0.3841 - acc: 0.8582 - val_loss: 0.6096 - val_acc: 0.7814\n",
      "Epoch 23/50\n",
      "3441/3441 [==============================] - 2s 643us/sample - loss: 0.3725 - acc: 0.8646 - val_loss: 0.5621 - val_acc: 0.8005\n",
      "Epoch 24/50\n",
      "3441/3441 [==============================] - 2s 647us/sample - loss: 0.3490 - acc: 0.8704 - val_loss: 0.6444 - val_acc: 0.7901\n",
      "Epoch 25/50\n",
      "3441/3441 [==============================] - 2s 704us/sample - loss: 0.3786 - acc: 0.8669 - val_loss: 0.5571 - val_acc: 0.7892\n",
      "Epoch 26/50\n",
      "3441/3441 [==============================] - 2s 669us/sample - loss: 0.3432 - acc: 0.8788 - val_loss: 0.5586 - val_acc: 0.7953\n",
      "Epoch 27/50\n",
      "3441/3441 [==============================] - 2s 670us/sample - loss: 0.3199 - acc: 0.8846 - val_loss: 0.6157 - val_acc: 0.7936\n",
      "Epoch 28/50\n",
      "3441/3441 [==============================] - 2s 680us/sample - loss: 0.3340 - acc: 0.8686 - val_loss: 0.5904 - val_acc: 0.7901\n",
      "Epoch 29/50\n",
      "3441/3441 [==============================] - 2s 707us/sample - loss: 0.3116 - acc: 0.8910 - val_loss: 0.6426 - val_acc: 0.7744\n",
      "Epoch 30/50\n",
      "3441/3441 [==============================] - 2s 712us/sample - loss: 0.3041 - acc: 0.8899 - val_loss: 0.6106 - val_acc: 0.7962\n",
      "Epoch 31/50\n",
      "3441/3441 [==============================] - 2s 686us/sample - loss: 0.2977 - acc: 0.8910 - val_loss: 0.6765 - val_acc: 0.7779\n",
      "Epoch 32/50\n",
      "3441/3441 [==============================] - 2s 724us/sample - loss: 0.2999 - acc: 0.8931 - val_loss: 0.6473 - val_acc: 0.7822\n",
      "Epoch 33/50\n",
      "3441/3441 [==============================] - 2s 703us/sample - loss: 0.2920 - acc: 0.8951 - val_loss: 0.6393 - val_acc: 0.7814\n",
      "Epoch 34/50\n",
      "3441/3441 [==============================] - 2s 645us/sample - loss: 0.2731 - acc: 0.9018 - val_loss: 0.6583 - val_acc: 0.7822\n",
      "Epoch 35/50\n",
      "3441/3441 [==============================] - 2s 646us/sample - loss: 0.2576 - acc: 0.9058 - val_loss: 0.6409 - val_acc: 0.7892\n",
      "Epoch 36/50\n",
      "3441/3441 [==============================] - 2s 646us/sample - loss: 0.2663 - acc: 0.9079 - val_loss: 0.6526 - val_acc: 0.7814\n",
      "Epoch 37/50\n",
      "3441/3441 [==============================] - 2s 644us/sample - loss: 0.2542 - acc: 0.9122 - val_loss: 0.6650 - val_acc: 0.7831\n",
      "Epoch 38/50\n",
      "3441/3441 [==============================] - 2s 695us/sample - loss: 0.2533 - acc: 0.9125 - val_loss: 0.6736 - val_acc: 0.7848\n",
      "Epoch 39/50\n",
      "3441/3441 [==============================] - 3s 745us/sample - loss: 0.2439 - acc: 0.9160 - val_loss: 0.6274 - val_acc: 0.7936\n"
     ]
    }
   ],
   "source": [
    "batch_size = 32\n",
    "epochs = 50\n",
    "\n",
    "history = None  # For recording the history of trainning process.\n",
    "history = model.fit(X_train, y_train,\n",
    "                    batch_size=batch_size,\n",
    "                    epochs=epochs,\n",
    "                    validation_data=(X_test, y_test),\n",
    "                    callbacks=[early_stop],\n",
    "                    shuffle=True)"
   ]
  },
  {
   "cell_type": "code",
   "execution_count": 60,
   "metadata": {},
   "outputs": [
    {
     "data": {
      "text/plain": [
       "<matplotlib.axes._subplots.AxesSubplot at 0x7faa5353c850>"
      ]
     },
     "execution_count": 60,
     "metadata": {},
     "output_type": "execute_result"
    },
    {
     "data": {
      "image/png": "[encoded data removed]",
      "text/plain": [
       "<Figure size 432x288 with 1 Axes>"
      ]
     },
     "metadata": {
      "needs_background": "light"
     },
     "output_type": "display_data"
    }
   ],
   "source": [
    "losses = pd.DataFrame(model.history.history)\n",
    "losses[['acc','val_acc']].plot()"
   ]
  },
  {
   "cell_type": "code",
   "execution_count": 61,
   "metadata": {},
   "outputs": [
    {
     "data": {
      "text/plain": [
       "<matplotlib.axes._subplots.AxesSubplot at 0x7faa536d1410>"
      ]
     },
     "execution_count": 61,
     "metadata": {},
     "output_type": "execute_result"
    },
    {
     "data": {
      "image/png": "[encoded data removed]",
      "text/plain": [
       "<Figure size 432x288 with 1 Axes>"
      ]
     },
     "metadata": {
      "needs_background": "light"
     },
     "output_type": "display_data"
    }
   ],
   "source": [
    "losses[['loss','val_loss']].plot()"
   ]
  },
  {
   "cell_type": "code",
   "execution_count": 62,
   "metadata": {},
   "outputs": [],
   "source": [
    "Y_pred = model.predict(X_test)"
   ]
  },
  {
   "cell_type": "code",
   "execution_count": 63,
   "metadata": {},
   "outputs": [
    {
     "data": {
      "text/plain": [
       "array([6, 3, 0, ..., 1, 2, 5])"
      ]
     },
     "execution_count": 63,
     "metadata": {},
     "output_type": "execute_result"
    }
   ],
   "source": [
    "Y_pred = np.argmax(Y_pred, axis=1)\n",
    "Y_pred"
   ]
  },
  {
   "cell_type": "code",
   "execution_count": 64,
   "metadata": {},
   "outputs": [
    {
     "data": {
      "text/plain": [
       "array([6, 3, 0, ..., 1, 2, 5], dtype=object)"
      ]
     },
     "execution_count": 64,
     "metadata": {},
     "output_type": "execute_result"
    }
   ],
   "source": [
    "Y_true = y_test.values\n",
    "Y_true"
   ]
  },
  {
   "cell_type": "code",
   "execution_count": 65,
   "metadata": {},
   "outputs": [],
   "source": [
    "Y_true = list(Y_true)"
   ]
  },
  {
   "cell_type": "code",
   "execution_count": 66,
   "metadata": {},
   "outputs": [
    {
     "data": {
      "text/plain": [
       "Text(0.5, 103.73999999999997, 'Predicted')"
      ]
     },
     "execution_count": 66,
     "metadata": {},
     "output_type": "execute_result"
    },
    {
     "data": {
      "image/png": "[encoded data removed]",
      "text/plain": [
       "<Figure size 648x648 with 2 Axes>"
      ]
     },
     "metadata": {
      "needs_background": "light"
     },
     "output_type": "display_data"
    }
   ],
   "source": [
    "# from sklearn.metrics import confusion_matrix\n",
    "import seaborn as sns\n",
    "cm = sklearn.metrics.confusion_matrix(Y_true, Y_pred)\n",
    "plt.figure(figsize=(9, 9))\n",
    "ax = sns.heatmap(cm, cmap=plt.cm.Greens, annot=True,\n",
    "                 square=True, xticklabels=labels, yticklabels=labels)\n",
    "ax.set_ylabel('Actual', fontsize=40)\n",
    "ax.set_xlabel('Predicted', fontsize=40)"
   ]
  },
  {
   "cell_type": "markdown",
   "metadata": {},
   "source": [
    "## 4.2 DenseNet + Data augmentation <a name=\"densenet\"></a>"
   ]
  },
  {
   "cell_type": "code",
   "execution_count": 70,
   "metadata": {},
   "outputs": [],
   "source": [
    "from keras.models import Model,Sequential, Input, load_model\n",
    "from keras.layers import Dense, Dropout, Flatten, Conv2D, MaxPool2D, BatchNormalization, AveragePooling2D, GlobalAveragePooling2D\n",
    "from keras.optimizers import Adam\n",
    "from keras.preprocessing.image import ImageDataGenerator\n",
    "from keras.callbacks import ModelCheckpoint, ReduceLROnPlateau\n",
    "from keras.applications import DenseNet121\n",
    "\n",
    "EPOCHS = 50\n",
    "SIZE = 32\n",
    "N_ch = 1\n",
    "BATCH_SIZE = 32\n",
    "\n",
    "def build_densenet():\n",
    "    densenet = DenseNet121(weights='imagenet', include_top=False)\n",
    "\n",
    "    input = Input(shape=(SIZE, SIZE, N_ch))\n",
    "    x = Conv2D(3, (3, 3), padding='same')(input)\n",
    "\n",
    "    x = densenet(x)\n",
    "\n",
    "    x = GlobalAveragePooling2D()(x)\n",
    "    x = BatchNormalization()(x)\n",
    "    x = Dropout(0.5)(x)\n",
    "    x = Dense(256, activation='relu')(x)\n",
    "    x = BatchNormalization()(x)\n",
    "    x = Dropout(0.5)(x)\n",
    "\n",
    "    # multi output\n",
    "    output = Dense(9, activation='softmax', name='root')(x)\n",
    "\n",
    "    # model\n",
    "    model = Model(input, output)\n",
    "\n",
    "    optimizer = Adam(lr=0.002, beta_1=0.9, beta_2=0.999,\n",
    "                     epsilon=0.1, decay=0.0)\n",
    "    model.compile(loss='sparse_categorical_crossentropy',\n",
    "                  optimizer=optimizer, metrics=['accuracy'])\n",
    "    model.summary()\n",
    "\n",
    "    return model"
   ]
  },
  {
   "cell_type": "code",
   "execution_count": 72,
   "metadata": {},
   "outputs": [
    {
     "name": "stdout",
     "output_type": "stream",
     "text": [
      "Model: \"model_2\"\n",
      "_________________________________________________________________\n",
      "Layer (type)                 Output Shape              Param #   \n",
      "=================================================================\n",
      "input_5 (InputLayer)         (None, 32, 32, 1)         0         \n",
      "_________________________________________________________________\n",
      "conv2d_2 (Conv2D)            (None, 32, 32, 3)         30        \n",
      "_________________________________________________________________\n",
      "densenet121 (Model)          multiple                  7037504   \n",
      "_________________________________________________________________\n",
      "global_average_pooling2d_2 ( (None, 1024)              0         \n",
      "_________________________________________________________________\n",
      "batch_normalization_3 (Batch (None, 1024)              4096      \n",
      "_________________________________________________________________\n",
      "dropout_3 (Dropout)          (None, 1024)              0         \n",
      "_________________________________________________________________\n",
      "dense_2 (Dense)              (None, 256)               262400    \n",
      "_________________________________________________________________\n",
      "batch_normalization_4 (Batch (None, 256)               1024      \n",
      "_________________________________________________________________\n",
      "dropout_4 (Dropout)          (None, 256)               0         \n",
      "_________________________________________________________________\n",
      "root (Dense)                 (None, 9)                 2313      \n",
      "=================================================================\n",
      "Total params: 7,307,367\n",
      "Trainable params: 7,221,159\n",
      "Non-trainable params: 86,208\n",
      "_________________________________________________________________\n",
      "Epoch 1/50\n",
      " - 82s - loss: 2.6070 - accuracy: 0.2713 - val_loss: 5.9468 - val_accuracy: 0.1742\n",
      "\n",
      "Epoch 00001: val_loss improved from inf to 5.94680, saving model to model.h5\n",
      "Epoch 2/50\n",
      " - 33s - loss: 1.7984 - accuracy: 0.4412 - val_loss: 1.3416 - val_accuracy: 0.5261\n",
      "\n",
      "Epoch 00002: val_loss improved from 5.94680 to 1.34163, saving model to model.h5\n",
      "Epoch 3/50\n",
      " - 33s - loss: 1.5316 - accuracy: 0.5051 - val_loss: 1.2079 - val_accuracy: 0.6159\n",
      "\n",
      "Epoch 00003: val_loss improved from 1.34163 to 1.20789, saving model to model.h5\n",
      "Epoch 4/50\n",
      " - 33s - loss: 1.2854 - accuracy: 0.5615 - val_loss: 0.8722 - val_accuracy: 0.6960\n",
      "\n",
      "Epoch 00004: val_loss improved from 1.20789 to 0.87216, saving model to model.h5\n",
      "Epoch 5/50\n",
      " - 33s - loss: 1.1575 - accuracy: 0.6005 - val_loss: 0.7915 - val_accuracy: 0.7117\n",
      "\n",
      "Epoch 00005: val_loss improved from 0.87216 to 0.79152, saving model to model.h5\n",
      "Epoch 6/50\n",
      " - 33s - loss: 1.0609 - accuracy: 0.6332 - val_loss: 0.8569 - val_accuracy: 0.6951\n",
      "\n",
      "Epoch 00006: val_loss did not improve from 0.79152\n",
      "Epoch 7/50\n",
      " - 33s - loss: 1.0167 - accuracy: 0.6594 - val_loss: 0.8363 - val_accuracy: 0.7030\n",
      "\n",
      "Epoch 00007: val_loss did not improve from 0.79152\n",
      "Epoch 8/50\n",
      " - 33s - loss: 0.9215 - accuracy: 0.6850 - val_loss: 0.8725 - val_accuracy: 0.7326\n",
      "\n",
      "Epoch 00008: val_loss did not improve from 0.79152\n",
      "Epoch 9/50\n",
      " - 33s - loss: 0.9100 - accuracy: 0.6916 - val_loss: 0.6024 - val_accuracy: 0.7936\n",
      "\n",
      "Epoch 00009: val_loss improved from 0.79152 to 0.60236, saving model to model.h5\n",
      "Epoch 10/50\n",
      " - 33s - loss: 0.8574 - accuracy: 0.7160 - val_loss: 0.6026 - val_accuracy: 0.7970\n",
      "\n",
      "Epoch 00010: val_loss did not improve from 0.60236\n",
      "Epoch 11/50\n",
      " - 33s - loss: 0.8091 - accuracy: 0.7254 - val_loss: 0.6042 - val_accuracy: 0.7814\n",
      "\n",
      "Epoch 00011: val_loss did not improve from 0.60236\n",
      "Epoch 12/50\n",
      " - 33s - loss: 0.7725 - accuracy: 0.7398 - val_loss: 0.5640 - val_accuracy: 0.8171\n",
      "\n",
      "Epoch 00012: val_loss improved from 0.60236 to 0.56398, saving model to model.h5\n",
      "Epoch 13/50\n",
      " - 33s - loss: 0.7703 - accuracy: 0.7398 - val_loss: 0.5452 - val_accuracy: 0.8092\n",
      "\n",
      "Epoch 00013: val_loss improved from 0.56398 to 0.54523, saving model to model.h5\n",
      "Epoch 14/50\n",
      " - 33s - loss: 0.7507 - accuracy: 0.7436 - val_loss: 0.5398 - val_accuracy: 0.8188\n",
      "\n",
      "Epoch 00014: val_loss improved from 0.54523 to 0.53977, saving model to model.h5\n",
      "Epoch 15/50\n",
      " - 33s - loss: 0.7056 - accuracy: 0.7677 - val_loss: 0.5434 - val_accuracy: 0.8118\n",
      "\n",
      "Epoch 00015: val_loss did not improve from 0.53977\n",
      "Epoch 16/50\n",
      " - 33s - loss: 0.6727 - accuracy: 0.7642 - val_loss: 0.4933 - val_accuracy: 0.8380\n",
      "\n",
      "Epoch 00016: val_loss improved from 0.53977 to 0.49329, saving model to model.h5\n",
      "Epoch 17/50\n",
      " - 33s - loss: 0.6903 - accuracy: 0.7718 - val_loss: 0.5172 - val_accuracy: 0.8223\n",
      "\n",
      "Epoch 00017: val_loss did not improve from 0.49329\n",
      "Epoch 18/50\n",
      " - 33s - loss: 0.6453 - accuracy: 0.7815 - val_loss: 0.5637 - val_accuracy: 0.8066\n",
      "\n",
      "Epoch 00018: val_loss did not improve from 0.49329\n",
      "Epoch 19/50\n",
      " - 33s - loss: 0.6079 - accuracy: 0.7876 - val_loss: 0.5417 - val_accuracy: 0.8057\n",
      "\n",
      "Epoch 00019: val_loss did not improve from 0.49329\n",
      "Epoch 20/50\n",
      " - 33s - loss: 0.6348 - accuracy: 0.7885 - val_loss: 0.4919 - val_accuracy: 0.8389\n",
      "\n",
      "Epoch 00020: val_loss improved from 0.49329 to 0.49190, saving model to model.h5\n",
      "Epoch 21/50\n",
      " - 34s - loss: 0.6304 - accuracy: 0.7838 - val_loss: 0.5145 - val_accuracy: 0.8284\n",
      "\n",
      "Epoch 00021: val_loss did not improve from 0.49190\n",
      "Epoch 22/50\n",
      " - 33s - loss: 0.6288 - accuracy: 0.7870 - val_loss: 0.5204 - val_accuracy: 0.8223\n",
      "\n",
      "Epoch 00022: val_loss did not improve from 0.49190\n",
      "Epoch 23/50\n",
      " - 37s - loss: 0.6152 - accuracy: 0.7810 - val_loss: 0.5734 - val_accuracy: 0.8005\n",
      "\n",
      "Epoch 00023: val_loss did not improve from 0.49190\n",
      "Epoch 24/50\n",
      " - 40s - loss: 0.6203 - accuracy: 0.7831 - val_loss: 0.4714 - val_accuracy: 0.8397\n",
      "\n",
      "Epoch 00024: val_loss improved from 0.49190 to 0.47142, saving model to model.h5\n",
      "Epoch 25/50\n",
      " - 33s - loss: 0.5968 - accuracy: 0.7985 - val_loss: 0.4703 - val_accuracy: 0.8423\n",
      "\n",
      "Epoch 00025: val_loss improved from 0.47142 to 0.47027, saving model to model.h5\n",
      "Epoch 26/50\n",
      " - 34s - loss: 0.6083 - accuracy: 0.7926 - val_loss: 0.4720 - val_accuracy: 0.8545\n",
      "\n",
      "Epoch 00026: val_loss did not improve from 0.47027\n",
      "Epoch 27/50\n",
      " - 34s - loss: 0.5886 - accuracy: 0.7952 - val_loss: 0.4732 - val_accuracy: 0.8441\n",
      "\n",
      "Epoch 00027: val_loss did not improve from 0.47027\n",
      "Epoch 28/50\n",
      " - 35s - loss: 0.6173 - accuracy: 0.7874 - val_loss: 0.5063 - val_accuracy: 0.8179\n",
      "\n",
      "Epoch 00028: val_loss did not improve from 0.47027\n",
      "Epoch 29/50\n",
      " - 35s - loss: 0.5788 - accuracy: 0.7964 - val_loss: 0.5009 - val_accuracy: 0.8136\n",
      "\n",
      "Epoch 00029: val_loss did not improve from 0.47027\n",
      "Epoch 30/50\n",
      " - 33s - loss: 0.5511 - accuracy: 0.8123 - val_loss: 0.4958 - val_accuracy: 0.8275\n",
      "\n",
      "Epoch 00030: val_loss did not improve from 0.47027\n",
      "Epoch 31/50\n",
      " - 33s - loss: 0.5433 - accuracy: 0.8178 - val_loss: 0.4145 - val_accuracy: 0.8571\n",
      "\n",
      "Epoch 00031: val_loss improved from 0.47027 to 0.41448, saving model to model.h5\n",
      "Epoch 32/50\n",
      " - 33s - loss: 0.5025 - accuracy: 0.8269 - val_loss: 0.4660 - val_accuracy: 0.8537\n",
      "\n",
      "Epoch 00032: val_loss did not improve from 0.41448\n",
      "Epoch 33/50\n",
      " - 33s - loss: 0.5336 - accuracy: 0.8170 - val_loss: 0.4371 - val_accuracy: 0.8467\n",
      "\n",
      "Epoch 00033: val_loss did not improve from 0.41448\n",
      "Epoch 34/50\n",
      " - 33s - loss: 0.5241 - accuracy: 0.8219 - val_loss: 0.4717 - val_accuracy: 0.8432\n",
      "\n",
      "Epoch 00034: val_loss did not improve from 0.41448\n",
      "Epoch 35/50\n",
      " - 33s - loss: 0.5184 - accuracy: 0.8166 - val_loss: 0.4744 - val_accuracy: 0.8432\n",
      "\n",
      "Epoch 00035: val_loss did not improve from 0.41448\n",
      "Epoch 36/50\n",
      " - 33s - loss: 0.5453 - accuracy: 0.8134 - val_loss: 0.4467 - val_accuracy: 0.8441\n",
      "\n",
      "Epoch 00036: ReduceLROnPlateau reducing learning rate to 0.0010000000474974513.\n",
      "\n",
      "Epoch 00036: val_loss did not improve from 0.41448\n",
      "Epoch 37/50\n",
      " - 33s - loss: 0.5428 - accuracy: 0.8159 - val_loss: 0.4767 - val_accuracy: 0.8484\n",
      "\n",
      "Epoch 00037: val_loss did not improve from 0.41448\n",
      "Epoch 38/50\n",
      " - 33s - loss: 0.4890 - accuracy: 0.8325 - val_loss: 0.4342 - val_accuracy: 0.8528\n",
      "\n",
      "Epoch 00038: val_loss did not improve from 0.41448\n",
      "Epoch 39/50\n",
      " - 33s - loss: 0.5260 - accuracy: 0.8155 - val_loss: 0.4298 - val_accuracy: 0.8528\n",
      "\n",
      "Epoch 00039: val_loss did not improve from 0.41448\n",
      "Epoch 40/50\n",
      " - 33s - loss: 0.4709 - accuracy: 0.8401 - val_loss: 0.4324 - val_accuracy: 0.8537\n",
      "\n",
      "Epoch 00040: val_loss did not improve from 0.41448\n",
      "Epoch 41/50\n",
      " - 33s - loss: 0.5248 - accuracy: 0.8145 - val_loss: 0.4498 - val_accuracy: 0.8528\n",
      "\n",
      "Epoch 00041: ReduceLROnPlateau reducing learning rate to 0.001.\n",
      "\n",
      "Epoch 00041: val_loss did not improve from 0.41448\n",
      "Epoch 42/50\n"
     ]
    },
    {
     "name": "stdout",
     "output_type": "stream",
     "text": [
      " - 33s - loss: 0.4780 - accuracy: 0.8291 - val_loss: 0.4197 - val_accuracy: 0.8624\n",
      "\n",
      "Epoch 00042: val_loss did not improve from 0.41448\n",
      "Epoch 43/50\n",
      " - 33s - loss: 0.4942 - accuracy: 0.8315 - val_loss: 0.4352 - val_accuracy: 0.8493\n",
      "\n",
      "Epoch 00043: val_loss did not improve from 0.41448\n",
      "Epoch 44/50\n",
      " - 33s - loss: 0.4777 - accuracy: 0.8316 - val_loss: 0.4353 - val_accuracy: 0.8528\n",
      "\n",
      "Epoch 00044: val_loss did not improve from 0.41448\n",
      "Epoch 45/50\n",
      " - 33s - loss: 0.4899 - accuracy: 0.8258 - val_loss: 0.4180 - val_accuracy: 0.8606\n",
      "\n",
      "Epoch 00045: val_loss did not improve from 0.41448\n",
      "Epoch 46/50\n",
      " - 33s - loss: 0.4648 - accuracy: 0.8447 - val_loss: 0.4093 - val_accuracy: 0.8632\n",
      "\n",
      "Epoch 00046: val_loss improved from 0.41448 to 0.40932, saving model to model.h5\n",
      "Epoch 47/50\n",
      " - 33s - loss: 0.4922 - accuracy: 0.8302 - val_loss: 0.3943 - val_accuracy: 0.8641\n",
      "\n",
      "Epoch 00047: val_loss improved from 0.40932 to 0.39429, saving model to model.h5\n",
      "Epoch 48/50\n",
      " - 33s - loss: 0.4736 - accuracy: 0.8405 - val_loss: 0.3921 - val_accuracy: 0.8624\n",
      "\n",
      "Epoch 00048: val_loss improved from 0.39429 to 0.39208, saving model to model.h5\n",
      "Epoch 49/50\n",
      " - 33s - loss: 0.4492 - accuracy: 0.8441 - val_loss: 0.4069 - val_accuracy: 0.8650\n",
      "\n",
      "Epoch 00049: val_loss did not improve from 0.39208\n",
      "Epoch 50/50\n",
      " - 33s - loss: 0.4345 - accuracy: 0.8525 - val_loss: 0.3992 - val_accuracy: 0.8589\n",
      "\n",
      "Epoch 00050: val_loss did not improve from 0.39208\n"
     ]
    }
   ],
   "source": [
    "model = build_densenet()\n",
    "annealer = ReduceLROnPlateau(\n",
    "    monitor='val_accuracy', factor=0.5, patience=5, verbose=1, min_lr=1e-3)\n",
    "checkpoint = ModelCheckpoint('model.h5', verbose=1, save_best_only=True)\n",
    "# Generates batches of image data with data augmentation\n",
    "datagen = ImageDataGenerator(rotation_range=360,  # Degree range for random rotations\n",
    "                             horizontal_flip=True,  # Randomly flip inputs horizontally\n",
    "                             vertical_flip=True)  # Randomly flip inputs vertically\n",
    "datagen.fit(X_train)\n",
    "# Fits the model on batches with real-time data augmentation\n",
    "hist = model.fit_generator(datagen.flow(X_train, y_train, batch_size=BATCH_SIZE),\n",
    "                           steps_per_epoch=X_train.shape[0] // BATCH_SIZE,\n",
    "                           epochs=EPOCHS,\n",
    "                           verbose=2,\n",
    "                           callbacks=[annealer, checkpoint],\n",
    "                           validation_data=(X_test, y_test))"
   ]
  },
  {
   "cell_type": "code",
   "execution_count": 73,
   "metadata": {},
   "outputs": [
    {
     "name": "stdout",
     "output_type": "stream",
     "text": [
      "1148/1148 [==============================] - 4s 3ms/step\n",
      "Final Loss: 0.3991652083313839, Final Accuracy: 0.8588849902153015\n"
     ]
    }
   ],
   "source": [
    "# To load a trained model --> model = load_model('model.h5')\n",
    "final_loss, final_accuracy = model.evaluate(X_test, y_test)\n",
    "print('Final Loss: {}, Final Accuracy: {}'.format(final_loss, final_accuracy))"
   ]
  },
  {
   "cell_type": "code",
   "execution_count": 74,
   "metadata": {},
   "outputs": [
    {
     "data": {
      "text/plain": [
       "Text(0.5, 145.31999999999996, 'Predicted')"
      ]
     },
     "execution_count": 74,
     "metadata": {},
     "output_type": "execute_result"
    },
    {
     "data": {
      "image/png": "[encoded data removed]",
      "text/plain": [
       "<Figure size 864x864 with 2 Axes>"
      ]
     },
     "metadata": {
      "needs_background": "light"
     },
     "output_type": "display_data"
    }
   ],
   "source": [
    "Y_pred = model.predict(X_test)\n",
    "\n",
    "Y_pred = np.argmax(Y_pred, axis=1)\n",
    "\n",
    "Y_true = y_test.values\n",
    "Y_true = list(Y_true)\n",
    "cm = sklearn.metrics.confusion_matrix(Y_true, Y_pred)\n",
    "plt.figure(figsize=(12, 12))\n",
    "ax = sns.heatmap(cm, cmap=plt.cm.Greens, annot=True,\n",
    "                 square=True, xticklabels=labels, yticklabels=labels)\n",
    "ax.set_ylabel('Actual', fontsize=40)\n",
    "ax.set_xlabel('Predicted', fontsize=40)"
   ]
  },
  {
   "cell_type": "code",
   "execution_count": 75,
   "metadata": {},
   "outputs": [
    {
     "data": {
      "image/png": "[encoded data removed]",
      "text/plain": [
       "<Figure size 432x288 with 1 Axes>"
      ]
     },
     "metadata": {
      "needs_background": "light"
     },
     "output_type": "display_data"
    },
    {
     "data": {
      "image/png": "[encoded data removed]",
      "text/plain": [
       "<Figure size 432x288 with 1 Axes>"
      ]
     },
     "metadata": {
      "needs_background": "light"
     },
     "output_type": "display_data"
    }
   ],
   "source": [
    "# accuracy plot\n",
    "plt.plot(hist.history['accuracy'])\n",
    "plt.plot(hist.history['val_accuracy'])\n",
    "plt.title('model accuracy')\n",
    "plt.ylabel('accuracy')\n",
    "plt.xlabel('epoch')\n",
    "plt.legend(['train', 'test'], loc='upper left')\n",
    "plt.show()\n",
    "\n",
    "# loss plot\n",
    "plt.plot(hist.history['loss'])\n",
    "plt.plot(hist.history['val_loss'])\n",
    "plt.title('model loss')\n",
    "plt.ylabel('loss')\n",
    "plt.xlabel('epoch')\n",
    "plt.legend(['train', 'test'], loc='upper left')\n",
    "plt.show()"
   ]
  },
  {
   "cell_type": "markdown",
   "metadata": {},
   "source": [
    "So, reaching an accuracy of 0.858, the use of DenseNet121 with data augmentation, improved the accuracy from previous results."
   ]
  },
  {
   "cell_type": "markdown",
   "metadata": {},
   "source": [
    "## 5 References <a name=\"ref\"></a>"
   ]
  },
  {
   "cell_type": "markdown",
   "metadata": {},
   "source": [
    "1 - https://www.rsipvision.com/wafer-macro-defects-detection-classification/ <br>\n",
    "2 - https://en.wikipedia.org/wiki/Substrate_mapping <br>\n",
    "3 - http://mirlab.org/dataSet/public/ <br>\n",
    "4 - http://kaggle.com/shawon10/wafer-map-defect-classification-by-densenet121/data <br>\n",
    "5 - http://cs230.stanford.edu/projects_fall_2019/reports/26261124.pdf"
   ]
  },
  {
   "cell_type": "code",
   "execution_count": null,
   "metadata": {},
   "outputs": [],
   "source": []
  }
 ],
 "metadata": {
  "kernelspec": {
   "display_name": "Python 3",
   "language": "python",
   "name": "python3"
  },
  "language_info": {
   "codemirror_mode": {
    "name": "ipython",
    "version": 3
   },
   "file_extension": ".py",
   "mimetype": "text/x-python",
   "name": "python",
   "nbconvert_exporter": "python",
   "pygments_lexer": "ipython3",
   "version": "3.7.6"
  },
  "varInspector": {
   "cols": {
    "lenName": 16,
    "lenType": 16,
    "lenVar": 40
   },
   "kernels_config": {
    "python": {
     "delete_cmd_postfix": "",
     "delete_cmd_prefix": "del ",
     "library": "var_list.py",
     "varRefreshCmd": "print(var_dic_list())"
    },
    "r": {
     "delete_cmd_postfix": ") ",
     "delete_cmd_prefix": "rm(",
     "library": "var_list.r",
     "varRefreshCmd": "cat(var_dic_list()) "
    }
   },
   "oldHeight": 402,
   "position": {
    "height": "538px",
    "left": "770px",
    "right": "20px",
    "top": "43px",
    "width": "350px"
   },
   "types_to_exclude": [
    "module",
    "function",
    "builtin_function_or_method",
    "instance",
    "_Feature"
   ],
   "varInspector_section_display": "block",
   "window_display": false
  }
 },
 "nbformat": 4,
 "nbformat_minor": 4
}
